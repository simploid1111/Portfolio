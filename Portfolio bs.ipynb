{
 "cells": [
  {
   "cell_type": "code",
   "execution_count": 8,
   "id": "5cd30078-9ac2-4160-86a5-095b80103948",
   "metadata": {},
   "outputs": [],
   "source": [
    "import numpy as np\n",
    "import pandas as pd\n",
    "from bs4 import BeautifulSoup as bs\n",
    "import requests\n",
    "import lxml"
   ]
  },
  {
   "cell_type": "code",
   "execution_count": 9,
   "id": "76b7f0da-e93f-4e61-9ddb-6ba30af31c55",
   "metadata": {},
   "outputs": [],
   "source": [
    "#запишем переменную soup, она будет содержать текст html кода страницы\n",
    "url = 'https://www.labirint.ru/genres/3079/'\n",
    "soup = bs(requests.get(url).text, 'lxml')\n",
    "books = soup.find('div', class_='inner-catalog').findAll('div', class_= 'genres-carousel__item') \n",
    "#будет содержать в себе полное описание каждой книги\n",
    "\n",
    "\n",
    "\n",
    "#name = book.find('a', class_= 'product-title-link').text.strip() -- получаем название из описания\n",
    "#author = book.find('div', class_= 'product-author').text.strip() -- получаем имя автора\n",
    "#new_price = book.find('div', class_= 'price').find('span', class_= 'price-val').text.strip() -- получаем новую цену\n",
    "#old_price = book.find('div', class_= 'price').find('span', class_= 'price-old') -- получаем старую цену"
   ]
  },
  {
   "cell_type": "code",
   "execution_count": 10,
   "id": "ca996f02-3001-433f-87f7-34c073bc5701",
   "metadata": {},
   "outputs": [],
   "source": [
    "#создаем список в который будем записывать атрибуты каждой книги\n",
    "data = []\n",
    "#запустим цикл с заданной переменной r, которая будет увеличиваться на 1 каждый раз \n",
    "#после завершения цикла, и будет означать номер страницы на сайте\n",
    "for r in range(5):\n",
    "    url = 'https://www.labirint.ru/genres/3079/'+'?page='+'r'\n",
    "    soup = bs(requests.get(url).text, 'lxml')\n",
    "    books = soup.find('div', class_='inner-catalog').findAll('div', class_= 'genres-carousel__item')\n",
    "    for book in books:\n",
    "        name = book.find('a', class_= 'product-title-link').text.strip()\n",
    "        try:\n",
    "            author = book.find('div', class_= 'product-author').text.strip()\n",
    "        except:\n",
    "            author = 'null'\n",
    "        try:\n",
    "            new_price = book.find('div', class_= 'price').find('span', class_= 'price-val').text.strip()\n",
    "        except:\n",
    "            new_price = 'null'\n",
    "        try:\n",
    "            old_price = book.find('div', class_= 'price').find('span', class_= 'price-old').text.strip()\n",
    "        except:\n",
    "            old_price = 'null'\n",
    "        data.append([name, author, new_price, old_price])"
   ]
  },
  {
   "cell_type": "code",
   "execution_count": 11,
   "id": "00e5661d-33cb-4d27-8c66-d10d1bd3fc82",
   "metadata": {},
   "outputs": [],
   "source": [
    "#Создадим датафрейм\n",
    "data = pd.DataFrame(data, columns = ['name', 'author', 'new_price', 'old_price'])"
   ]
  },
  {
   "cell_type": "code",
   "execution_count": 12,
   "id": "2aa991da-379a-44a7-b10a-99eafee36664",
   "metadata": {},
   "outputs": [
    {
     "data": {
      "text/html": [
       "<div>\n",
       "<style scoped>\n",
       "    .dataframe tbody tr th:only-of-type {\n",
       "        vertical-align: middle;\n",
       "    }\n",
       "\n",
       "    .dataframe tbody tr th {\n",
       "        vertical-align: top;\n",
       "    }\n",
       "\n",
       "    .dataframe thead th {\n",
       "        text-align: right;\n",
       "    }\n",
       "</style>\n",
       "<table border=\"1\" class=\"dataframe\">\n",
       "  <thead>\n",
       "    <tr style=\"text-align: right;\">\n",
       "      <th></th>\n",
       "      <th>name</th>\n",
       "      <th>author</th>\n",
       "      <th>new_price</th>\n",
       "      <th>old_price</th>\n",
       "    </tr>\n",
       "  </thead>\n",
       "  <tbody>\n",
       "    <tr>\n",
       "      <th>0</th>\n",
       "      <td>Интеллектуальный анализ данных. Учебное пособие</td>\n",
       "      <td>Татарникова Татьяна Михайловна</td>\n",
       "      <td>952 ₽</td>\n",
       "      <td>1 730</td>\n",
       "    </tr>\n",
       "    <tr>\n",
       "      <th>1</th>\n",
       "      <td>Конструирование систем глубокого обучения. Рук...</td>\n",
       "      <td>Ванг, Сзето</td>\n",
       "      <td>2 764 ₽</td>\n",
       "      <td>5 026</td>\n",
       "    </tr>\n",
       "    <tr>\n",
       "      <th>2</th>\n",
       "      <td>Машинное обучение в финансах. Учебник для маги...</td>\n",
       "      <td>Богатырев, Помулев, Затевахина</td>\n",
       "      <td>1 183 ₽</td>\n",
       "      <td>2 151</td>\n",
       "    </tr>\n",
       "    <tr>\n",
       "      <th>3</th>\n",
       "      <td>Введение в анализ данных. Поиск структуры данн...</td>\n",
       "      <td>Криволапов Сергей Яковлевич</td>\n",
       "      <td>2 855 ₽</td>\n",
       "      <td>null</td>\n",
       "    </tr>\n",
       "    <tr>\n",
       "      <th>4</th>\n",
       "      <td>Практические работы по информатике и основам и...</td>\n",
       "      <td>Галыгина, Галыгина</td>\n",
       "      <td>2 230 ₽</td>\n",
       "      <td>4 055</td>\n",
       "    </tr>\n",
       "    <tr>\n",
       "      <th>...</th>\n",
       "      <td>...</td>\n",
       "      <td>...</td>\n",
       "      <td>...</td>\n",
       "      <td>...</td>\n",
       "    </tr>\n",
       "    <tr>\n",
       "      <th>295</th>\n",
       "      <td>Математические алгоритмы для программистов. 3D...</td>\n",
       "      <td>Орланд Пол</td>\n",
       "      <td>4 455 ₽</td>\n",
       "      <td>null</td>\n",
       "    </tr>\n",
       "    <tr>\n",
       "      <th>296</th>\n",
       "      <td>Методы и средства научного исследования при ос...</td>\n",
       "      <td>Мелехина, Поздеева</td>\n",
       "      <td>739 ₽</td>\n",
       "      <td>1 344</td>\n",
       "    </tr>\n",
       "    <tr>\n",
       "      <th>297</th>\n",
       "      <td>Анализ данных. Моделирование инвестиционного п...</td>\n",
       "      <td>Цогоева, Волик, Цогоев</td>\n",
       "      <td>592 ₽</td>\n",
       "      <td>1 076</td>\n",
       "    </tr>\n",
       "    <tr>\n",
       "      <th>298</th>\n",
       "      <td>Основы искусственного интеллекта. Лабораторный...</td>\n",
       "      <td>Галыгина, Галыгина</td>\n",
       "      <td>3 872 ₽</td>\n",
       "      <td>7 040</td>\n",
       "    </tr>\n",
       "    <tr>\n",
       "      <th>299</th>\n",
       "      <td>Основы искусственного интеллекта. Лабораторный...</td>\n",
       "      <td>Галыгина, Галыгина</td>\n",
       "      <td>3 872 ₽</td>\n",
       "      <td>7 040</td>\n",
       "    </tr>\n",
       "  </tbody>\n",
       "</table>\n",
       "<p>300 rows × 4 columns</p>\n",
       "</div>"
      ],
      "text/plain": [
       "                                                  name  \\\n",
       "0      Интеллектуальный анализ данных. Учебное пособие   \n",
       "1    Конструирование систем глубокого обучения. Рук...   \n",
       "2    Машинное обучение в финансах. Учебник для маги...   \n",
       "3    Введение в анализ данных. Поиск структуры данн...   \n",
       "4    Практические работы по информатике и основам и...   \n",
       "..                                                 ...   \n",
       "295  Математические алгоритмы для программистов. 3D...   \n",
       "296  Методы и средства научного исследования при ос...   \n",
       "297  Анализ данных. Моделирование инвестиционного п...   \n",
       "298  Основы искусственного интеллекта. Лабораторный...   \n",
       "299  Основы искусственного интеллекта. Лабораторный...   \n",
       "\n",
       "                             author new_price old_price  \n",
       "0    Татарникова Татьяна Михайловна     952 ₽     1 730  \n",
       "1                       Ванг, Сзето   2 764 ₽     5 026  \n",
       "2    Богатырев, Помулев, Затевахина   1 183 ₽     2 151  \n",
       "3       Криволапов Сергей Яковлевич   2 855 ₽      null  \n",
       "4                Галыгина, Галыгина   2 230 ₽     4 055  \n",
       "..                              ...       ...       ...  \n",
       "295                      Орланд Пол   4 455 ₽      null  \n",
       "296              Мелехина, Поздеева     739 ₽     1 344  \n",
       "297          Цогоева, Волик, Цогоев     592 ₽     1 076  \n",
       "298              Галыгина, Галыгина   3 872 ₽     7 040  \n",
       "299              Галыгина, Галыгина   3 872 ₽     7 040  \n",
       "\n",
       "[300 rows x 4 columns]"
      ]
     },
     "execution_count": 12,
     "metadata": {},
     "output_type": "execute_result"
    }
   ],
   "source": [
    "data"
   ]
  },
  {
   "cell_type": "markdown",
   "id": "2bea5e85-60bd-4659-bb3d-a1fac6a03cac",
   "metadata": {},
   "source": [
    "## Проверим гепотезу о равенстве средних новых и старых цен"
   ]
  },
  {
   "cell_type": "code",
   "execution_count": 13,
   "id": "d8e3740c-42db-49a9-9bf9-e52d7947edf4",
   "metadata": {},
   "outputs": [],
   "source": [
    "import statsmodels.api as sm\n",
    "import matplotlib.pyplot as plt\n",
    "from scipy.stats import kstest"
   ]
  },
  {
   "cell_type": "code",
   "execution_count": 14,
   "id": "f285ad7e-2350-42e3-bf28-53d0eb35ce8e",
   "metadata": {},
   "outputs": [],
   "source": [
    "data['new_price'] = data['new_price'].replace([' ','₽'], ['',''], regex = True)\n",
    "data['old_price']  = data['old_price'].replace([' ','₽'], ['',''], regex = True)\n",
    "data['old_price'] = data['old_price'].replace('null', 0)"
   ]
  },
  {
   "cell_type": "code",
   "execution_count": 15,
   "id": "440ab2be-e131-4ac5-8628-e517d7ee9de8",
   "metadata": {},
   "outputs": [],
   "source": [
    "data['new_price'], data['old_price'] = pd.to_numeric(data['new_price']), pd.to_numeric(data['old_price'])"
   ]
  },
  {
   "cell_type": "code",
   "execution_count": 16,
   "id": "590c3b71-9925-4ffc-945a-f00bad26d5d7",
   "metadata": {},
   "outputs": [],
   "source": [
    "data[data['old_price'] == 0] =  round(data['old_price'].median()) #пустые значения заполним медианой"
   ]
  },
  {
   "cell_type": "code",
   "execution_count": 17,
   "id": "5b0083f3-a1e8-49dc-a9f6-7b2bfb38d190",
   "metadata": {},
   "outputs": [
    {
     "data": {
      "text/plain": [
       "(array([65., 60., 45., 45., 10., 15., 25., 25.,  0., 10.]),\n",
       " array([ 483. , 1138.7, 1794.4, 2450.1, 3105.8, 3761.5, 4417.2, 5072.9,\n",
       "        5728.6, 6384.3, 7040. ]),\n",
       " <BarContainer object of 10 artists>)"
      ]
     },
     "execution_count": 17,
     "metadata": {},
     "output_type": "execute_result"
    },
    {
     "data": {
      "image/png": "[encoded data removed]",
      "text/plain": [
       "<Figure size 640x480 with 2 Axes>"
      ]
     },
     "metadata": {},
     "output_type": "display_data"
    }
   ],
   "source": [
    "fig, (axs1, axs2) = plt.subplots(1,2) \n",
    "axs1.hist(data['new_price']) #распределение новых цен не похоже на нормальное\n",
    "axs2.hist(data['old_price']) #распределение старых цен не похоже на нормальное"
   ]
  },
  {
   "cell_type": "markdown",
   "id": "bdd42ef7-f977-4fb2-9f0b-560705d3a4b8",
   "metadata": {},
   "source": [
    "## Распределения цен сильно отличаются от нормального, поэтому будем использовать бутстрап"
   ]
  },
  {
   "cell_type": "code",
   "execution_count": 18,
   "id": "1bec1560-6ce8-4a71-8d9c-65e49d03ced6",
   "metadata": {},
   "outputs": [],
   "source": [
    "def getbootstrap(arr, N):\n",
    "    n = arr.size\n",
    "    boot = np.random.choice(arr, size = (n, N), replace = True)\n",
    "    return boot"
   ]
  },
  {
   "cell_type": "code",
   "execution_count": 19,
   "id": "25b97e42-8784-4e9d-a47d-da6392192509",
   "metadata": {},
   "outputs": [],
   "source": [
    "newp = getbootstrap(data['new_price'], 100000)\n",
    "op = getbootstrap(data['old_price'], 100000)"
   ]
  },
  {
   "cell_type": "code",
   "execution_count": 20,
   "id": "7be4b3a9-89aa-497d-a663-2cc2098c8b5b",
   "metadata": {},
   "outputs": [],
   "source": [
    "newp_mean = np.mean(newp, axis = 0) \n",
    "op_mean = np.mean(op, axis = 0)"
   ]
  },
  {
   "cell_type": "code",
   "execution_count": 21,
   "id": "6cfafaba-6ade-41c0-9245-2a21f2de0156",
   "metadata": {},
   "outputs": [
    {
     "data": {
      "text/plain": [
       "(array([3.000e+00, 1.000e+00, 5.000e+00, 7.000e+00, 2.300e+01, 2.200e+01,\n",
       "        4.600e+01, 8.600e+01, 1.260e+02, 2.000e+02, 3.350e+02, 5.060e+02,\n",
       "        7.700e+02, 1.013e+03, 1.429e+03, 1.986e+03, 2.398e+03, 3.050e+03,\n",
       "        3.768e+03, 4.627e+03, 5.116e+03, 5.524e+03, 6.170e+03, 6.467e+03,\n",
       "        6.750e+03, 6.501e+03, 6.347e+03, 6.111e+03, 5.531e+03, 4.908e+03,\n",
       "        4.360e+03, 3.731e+03, 2.995e+03, 2.421e+03, 1.859e+03, 1.406e+03,\n",
       "        1.084e+03, 7.410e+02, 5.400e+02, 3.710e+02, 2.400e+02, 1.660e+02,\n",
       "        9.300e+01, 5.800e+01, 5.600e+01, 1.800e+01, 1.700e+01, 8.000e+00,\n",
       "        4.000e+00, 6.000e+00]),\n",
       " array([2205.96      , 2222.28253333, 2238.60506667, 2254.9276    ,\n",
       "        2271.25013333, 2287.57266667, 2303.8952    , 2320.21773333,\n",
       "        2336.54026667, 2352.8628    , 2369.18533333, 2385.50786667,\n",
       "        2401.8304    , 2418.15293333, 2434.47546667, 2450.798     ,\n",
       "        2467.12053333, 2483.44306667, 2499.7656    , 2516.08813333,\n",
       "        2532.41066667, 2548.7332    , 2565.05573333, 2581.37826667,\n",
       "        2597.7008    , 2614.02333333, 2630.34586667, 2646.6684    ,\n",
       "        2662.99093333, 2679.31346667, 2695.636     , 2711.95853333,\n",
       "        2728.28106667, 2744.6036    , 2760.92613333, 2777.24866667,\n",
       "        2793.5712    , 2809.89373333, 2826.21626667, 2842.5388    ,\n",
       "        2858.86133333, 2875.18386667, 2891.5064    , 2907.82893333,\n",
       "        2924.15146667, 2940.474     , 2956.79653333, 2973.11906667,\n",
       "        2989.4416    , 3005.76413333, 3022.08666667]),\n",
       " <BarContainer object of 50 artists>)"
      ]
     },
     "execution_count": 21,
     "metadata": {},
     "output_type": "execute_result"
    },
    {
     "data": {
      "image/png": "[encoded data removed]",
      "text/plain": [
       "<Figure size 640x480 with 2 Axes>"
      ]
     },
     "metadata": {},
     "output_type": "display_data"
    }
   ],
   "source": [
    "fig, (axs1, axs2) = plt.subplots(1,2)\n",
    "axs1.hist(newp_mean, bins=50)\n",
    "axs2.hist(op_mean, bins=50) "
   ]
  },
  {
   "cell_type": "code",
   "execution_count": 23,
   "id": "087e0a0e-550e-4178-8eff-e99660fd58a7",
   "metadata": {},
   "outputs": [
    {
     "data": {
      "image/png": "[encoded data removed]",
      "text/plain": [
       "<Figure size 640x480 with 1 Axes>"
      ]
     },
     "metadata": {},
     "output_type": "display_data"
    },
    {
     "data": {
      "image/png": "[encoded data removed]",
      "text/plain": [
       "<Figure size 640x480 with 1 Axes>"
      ]
     },
     "metadata": {},
     "output_type": "display_data"
    }
   ],
   "source": [
    "op_scale = (op_mean - op_mean.mean())/op_mean.std()\n",
    "newp_scale = (newp_mean - newp_mean.mean())/newp_mean.std()\n",
    "axs1 = sm.qqplot(newp_scale,line = '45')\n",
    "axs2 = sm.qqplot(op_scale, line = '45') #на графиках также нормальное распределение"
   ]
  },
  {
   "cell_type": "code",
   "execution_count": 24,
   "id": "9d8ec23e-db98-410f-b541-4cf182658063",
   "metadata": {},
   "outputs": [
    {
     "data": {
      "text/plain": [
       "(KstestResult(statistic=0.004173648669731966, pvalue=0.06120427071923751, statistic_location=-0.04946001365072909, statistic_sign=1),\n",
       " KstestResult(statistic=0.003880290248480134, pvalue=0.09818597336642731, statistic_location=-0.2650909232201538, statistic_sign=1))"
      ]
     },
     "execution_count": 24,
     "metadata": {},
     "output_type": "execute_result"
    }
   ],
   "source": [
    "kstest(op_scale, 'norm'), kstest(newp_scale, 'norm')\n",
    "#тест показывает что распределение средних сильно близко к нормальному"
   ]
  },
  {
   "cell_type": "code",
   "execution_count": 25,
   "id": "dfa38891-f6f8-40fc-a840-be3325bcdfbd",
   "metadata": {},
   "outputs": [
    {
     "data": {
      "text/plain": [
       "(-2912.6907775681716, 0.0, 199998.0)"
      ]
     },
     "execution_count": 25,
     "metadata": {},
     "output_type": "execute_result"
    }
   ],
   "source": [
    "sm.stats.ttest_ind(newp_mean, op_mean) # т-тест показал, что средние выборок различаются со значимостью почти 100%"
   ]
  },
  {
   "cell_type": "code",
   "execution_count": null,
   "id": "0c84498d-e60b-43dc-b6e6-d707c3d1457f",
   "metadata": {},
   "outputs": [],
   "source": []
  },
  {
   "cell_type": "code",
   "execution_count": null,
   "id": "7be92fd1-7434-49ab-bda4-61461ebf4527",
   "metadata": {},
   "outputs": [],
   "source": []
  },
  {
   "cell_type": "code",
   "execution_count": null,
   "id": "c161b43e-90d2-4a84-a61f-e9bcea56a76b",
   "metadata": {},
   "outputs": [],
   "source": []
  },
  {
   "cell_type": "code",
   "execution_count": null,
   "id": "4406d95d-32a6-40fc-9825-042aac236990",
   "metadata": {},
   "outputs": [],
   "source": []
  },
  {
   "cell_type": "code",
   "execution_count": null,
   "id": "1eacf75f-7bb2-4759-8c28-9ecb43277f0a",
   "metadata": {},
   "outputs": [],
   "source": []
  },
  {
   "cell_type": "code",
   "execution_count": null,
   "id": "a5a30340-b58a-45a0-97ed-82c1a5398f79",
   "metadata": {},
   "outputs": [],
   "source": []
  },
  {
   "cell_type": "code",
   "execution_count": null,
   "id": "e3c13e0e-83c4-4a70-a1ec-48097fa0a002",
   "metadata": {},
   "outputs": [],
   "source": []
  },
  {
   "cell_type": "code",
   "execution_count": null,
   "id": "bbf065ea-f20a-445d-9aa0-1a3e84dc8d9b",
   "metadata": {},
   "outputs": [],
   "source": []
  },
  {
   "cell_type": "code",
   "execution_count": null,
   "id": "34f759f4-fd76-45e9-802f-13b67e60c8d1",
   "metadata": {},
   "outputs": [],
   "source": []
  },
  {
   "cell_type": "code",
   "execution_count": null,
   "id": "2664125d-2d04-4bc0-8a08-0a997fb2754b",
   "metadata": {},
   "outputs": [],
   "source": []
  },
  {
   "cell_type": "code",
   "execution_count": null,
   "id": "0264a163-5a55-4100-9019-3150b2486edd",
   "metadata": {},
   "outputs": [],
   "source": []
  },
  {
   "cell_type": "code",
   "execution_count": null,
   "id": "51a0b4ef-c54b-48fd-85ca-99129b113ba9",
   "metadata": {},
   "outputs": [],
   "source": []
  },
  {
   "cell_type": "code",
   "execution_count": null,
   "id": "8d992932-df9c-4969-b113-a5d71613e189",
   "metadata": {},
   "outputs": [],
   "source": []
  },
  {
   "cell_type": "code",
   "execution_count": null,
   "id": "0164b4cc-75ad-4bbd-acd2-21e8b97dd0fa",
   "metadata": {},
   "outputs": [],
   "source": []
  },
  {
   "cell_type": "code",
   "execution_count": null,
   "id": "b9e8c22a-7c1a-4c02-aae2-5b553f89979d",
   "metadata": {},
   "outputs": [],
   "source": []
  },
  {
   "cell_type": "code",
   "execution_count": null,
   "id": "99dca083-4082-41ed-bbe8-49d11ec2ae66",
   "metadata": {},
   "outputs": [],
   "source": []
  },
  {
   "cell_type": "code",
   "execution_count": null,
   "id": "1f3b6938-1010-4594-b295-da48be94c775",
   "metadata": {},
   "outputs": [],
   "source": []
  },
  {
   "cell_type": "code",
   "execution_count": null,
   "id": "07713748-2a51-4969-b6bc-e278c3dff795",
   "metadata": {},
   "outputs": [],
   "source": []
  },
  {
   "cell_type": "code",
   "execution_count": null,
   "id": "c21903ed-4af3-4000-90a7-1273157af5a6",
   "metadata": {},
   "outputs": [],
   "source": []
  },
  {
   "cell_type": "code",
   "execution_count": null,
   "id": "e709a15a-4f8f-464e-b7a4-61fd892a70fd",
   "metadata": {},
   "outputs": [],
   "source": []
  },
  {
   "cell_type": "code",
   "execution_count": null,
   "id": "8f67c377-e9f9-4139-8686-6f00de4e382f",
   "metadata": {},
   "outputs": [],
   "source": []
  },
  {
   "cell_type": "code",
   "execution_count": null,
   "id": "86a38abe-265e-4413-ad85-2ec152c83a2e",
   "metadata": {},
   "outputs": [],
   "source": []
  },
  {
   "cell_type": "code",
   "execution_count": null,
   "id": "a37902f2-c192-4d8d-9eb8-336ed2a7ae30",
   "metadata": {},
   "outputs": [],
   "source": []
  },
  {
   "cell_type": "code",
   "execution_count": null,
   "id": "d30b6032-37b3-48c3-9e09-b0abaacbcd07",
   "metadata": {},
   "outputs": [],
   "source": []
  },
  {
   "cell_type": "code",
   "execution_count": null,
   "id": "b0444097-9461-45c2-8e0e-ea69c60fe2a8",
   "metadata": {},
   "outputs": [],
   "source": []
  },
  {
   "cell_type": "code",
   "execution_count": null,
   "id": "aba73efd-bc19-4210-b134-3162c5a8e016",
   "metadata": {},
   "outputs": [],
   "source": []
  },
  {
   "cell_type": "code",
   "execution_count": null,
   "id": "f642ed7e-192c-4b7a-ab75-fc8e133683fa",
   "metadata": {},
   "outputs": [],
   "source": []
  },
  {
   "cell_type": "code",
   "execution_count": null,
   "id": "9d5544a5-0a13-4301-9202-5091804c8464",
   "metadata": {},
   "outputs": [],
   "source": []
  },
  {
   "cell_type": "code",
   "execution_count": null,
   "id": "4ad60d04-2771-426f-b1c1-a249a98802b1",
   "metadata": {},
   "outputs": [],
   "source": []
  },
  {
   "cell_type": "code",
   "execution_count": null,
   "id": "4ae48d72-e925-4c8c-b7a0-8392eb0a43eb",
   "metadata": {},
   "outputs": [],
   "source": []
  },
  {
   "cell_type": "code",
   "execution_count": null,
   "id": "c5ceb288-3654-4b72-a64c-2ee2f956a4c5",
   "metadata": {},
   "outputs": [],
   "source": []
  },
  {
   "cell_type": "code",
   "execution_count": null,
   "id": "a7a9b1ed-e82c-49ff-9c4f-c05e571deb5e",
   "metadata": {},
   "outputs": [],
   "source": []
  },
  {
   "cell_type": "code",
   "execution_count": null,
   "id": "227f5628-d57e-4f42-a74c-4620dc118fcd",
   "metadata": {},
   "outputs": [],
   "source": []
  },
  {
   "cell_type": "code",
   "execution_count": null,
   "id": "04e58068-1016-41e4-aed7-dfeb6abfaa6e",
   "metadata": {},
   "outputs": [],
   "source": []
  },
  {
   "cell_type": "code",
   "execution_count": null,
   "id": "a1e1d0a4-1f36-458f-8f33-425b1b8728f1",
   "metadata": {},
   "outputs": [],
   "source": []
  },
  {
   "cell_type": "code",
   "execution_count": null,
   "id": "0f90d202-488c-4664-805e-59bf527529ce",
   "metadata": {},
   "outputs": [],
   "source": []
  },
  {
   "cell_type": "code",
   "execution_count": null,
   "id": "0664c218-a0af-4208-a9b2-e427bf7f95e0",
   "metadata": {},
   "outputs": [],
   "source": []
  },
  {
   "cell_type": "code",
   "execution_count": null,
   "id": "ba9c35df-475a-415e-a267-2bceab721a4f",
   "metadata": {},
   "outputs": [],
   "source": []
  },
  {
   "cell_type": "code",
   "execution_count": null,
   "id": "3af4b16e-2e29-41f1-b214-60f55533f451",
   "metadata": {},
   "outputs": [],
   "source": []
  },
  {
   "cell_type": "code",
   "execution_count": null,
   "id": "04c424bc-8a2a-494a-be1c-fabbfb4996ae",
   "metadata": {},
   "outputs": [],
   "source": []
  },
  {
   "cell_type": "code",
   "execution_count": null,
   "id": "5b67b5d7-c6f8-4ebd-a13a-b62707038d92",
   "metadata": {},
   "outputs": [],
   "source": []
  },
  {
   "cell_type": "code",
   "execution_count": null,
   "id": "274b3f2f-2cf4-4951-82e1-7daad82d44ee",
   "metadata": {},
   "outputs": [],
   "source": []
  },
  {
   "cell_type": "code",
   "execution_count": null,
   "id": "2021d23d-1159-4c49-aa05-c98575cf00eb",
   "metadata": {},
   "outputs": [],
   "source": []
  },
  {
   "cell_type": "code",
   "execution_count": null,
   "id": "c2e04d0b-2568-4dc9-b4e9-e628c15f5f13",
   "metadata": {},
   "outputs": [],
   "source": []
  },
  {
   "cell_type": "code",
   "execution_count": null,
   "id": "6e5d96c9-94e4-407d-ab6d-b7dce1265ab8",
   "metadata": {},
   "outputs": [],
   "source": []
  },
  {
   "cell_type": "code",
   "execution_count": null,
   "id": "8119e3c1-39a9-4c62-a42f-14185236372c",
   "metadata": {},
   "outputs": [],
   "source": []
  },
  {
   "cell_type": "code",
   "execution_count": null,
   "id": "3d7cb200-1e6c-4d0b-8a10-dfbc815a5c9a",
   "metadata": {},
   "outputs": [],
   "source": []
  },
  {
   "cell_type": "code",
   "execution_count": null,
   "id": "bca2eff3-4825-4aab-8e3b-91996e768ddb",
   "metadata": {},
   "outputs": [],
   "source": []
  },
  {
   "cell_type": "code",
   "execution_count": null,
   "id": "deb4bd9e-d356-4852-bf21-c92c653c8598",
   "metadata": {},
   "outputs": [],
   "source": []
  },
  {
   "cell_type": "code",
   "execution_count": null,
   "id": "64ea5915-3346-4efd-97ba-203dfa0f4017",
   "metadata": {},
   "outputs": [],
   "source": []
  },
  {
   "cell_type": "code",
   "execution_count": null,
   "id": "b3a39a7c-c36d-43da-83cf-98f9b188b706",
   "metadata": {},
   "outputs": [],
   "source": []
  },
  {
   "cell_type": "code",
   "execution_count": null,
   "id": "7b3378b7-0d07-4305-bdcd-92dbee5f9404",
   "metadata": {},
   "outputs": [],
   "source": []
  },
  {
   "cell_type": "code",
   "execution_count": null,
   "id": "a337265d-e83d-4458-893d-bc292de0721c",
   "metadata": {},
   "outputs": [],
   "source": []
  },
  {
   "cell_type": "code",
   "execution_count": null,
   "id": "8c185047-5130-4fbe-b74d-c64e9918d0b1",
   "metadata": {},
   "outputs": [],
   "source": []
  },
  {
   "cell_type": "code",
   "execution_count": null,
   "id": "1d60f8a4-a0bf-4e73-ab8d-37029331425f",
   "metadata": {},
   "outputs": [],
   "source": []
  },
  {
   "cell_type": "code",
   "execution_count": null,
   "id": "cd806c54-5b80-4527-b301-7f2ae645f0d6",
   "metadata": {},
   "outputs": [],
   "source": []
  },
  {
   "cell_type": "code",
   "execution_count": null,
   "id": "d999acf8-01d9-49c6-afa1-4d842442290e",
   "metadata": {},
   "outputs": [],
   "source": []
  },
  {
   "cell_type": "code",
   "execution_count": null,
   "id": "5add2752-d25a-4fb4-ba90-58dd64d67cb8",
   "metadata": {},
   "outputs": [],
   "source": []
  },
  {
   "cell_type": "code",
   "execution_count": null,
   "id": "15272b4c-6717-4bca-8535-3d3a812ef9ec",
   "metadata": {},
   "outputs": [],
   "source": []
  },
  {
   "cell_type": "code",
   "execution_count": null,
   "id": "dde235ac-309e-479b-9490-88a7a93bdefa",
   "metadata": {},
   "outputs": [],
   "source": []
  },
  {
   "cell_type": "code",
   "execution_count": null,
   "id": "bd44fed3-0257-4ac2-b5e8-138491a65407",
   "metadata": {},
   "outputs": [],
   "source": []
  },
  {
   "cell_type": "code",
   "execution_count": null,
   "id": "c6fc6f1b-9a76-427c-ade4-a54b152f0499",
   "metadata": {},
   "outputs": [],
   "source": []
  },
  {
   "cell_type": "code",
   "execution_count": null,
   "id": "db96cf7f-35f9-41a7-bf41-b083500b3cbc",
   "metadata": {},
   "outputs": [],
   "source": []
  },
  {
   "cell_type": "code",
   "execution_count": null,
   "id": "bb7d94cc-38d8-446d-8852-b0536b1b96ac",
   "metadata": {},
   "outputs": [],
   "source": []
  },
  {
   "cell_type": "code",
   "execution_count": null,
   "id": "0c5797c8-3596-47f5-a2bb-71dc6be13715",
   "metadata": {},
   "outputs": [],
   "source": []
  },
  {
   "cell_type": "code",
   "execution_count": null,
   "id": "18b0554f-3761-43ee-b250-c7ef6f85826c",
   "metadata": {},
   "outputs": [],
   "source": []
  },
  {
   "cell_type": "code",
   "execution_count": null,
   "id": "6e6aaaf9-07e3-416d-8fa9-7321857ffb89",
   "metadata": {},
   "outputs": [],
   "source": []
  },
  {
   "cell_type": "code",
   "execution_count": null,
   "id": "334e6f56-0cef-4488-abfd-4489514a0175",
   "metadata": {},
   "outputs": [],
   "source": []
  },
  {
   "cell_type": "code",
   "execution_count": null,
   "id": "ed3fe438-5bf4-4bd7-ac0e-8420db37778e",
   "metadata": {},
   "outputs": [],
   "source": []
  },
  {
   "cell_type": "code",
   "execution_count": null,
   "id": "e4bbedc6-b71d-439a-9b64-4d420301a108",
   "metadata": {},
   "outputs": [],
   "source": []
  },
  {
   "cell_type": "code",
   "execution_count": null,
   "id": "f39441e7-fd63-449a-97dc-0c8ebf0d8e5c",
   "metadata": {},
   "outputs": [],
   "source": []
  },
  {
   "cell_type": "code",
   "execution_count": null,
   "id": "659708ed-46f6-4b7c-b6c0-43ab11d242ce",
   "metadata": {},
   "outputs": [],
   "source": []
  },
  {
   "cell_type": "code",
   "execution_count": null,
   "id": "83747a55-cf90-4f9e-9c59-41e3115f18e0",
   "metadata": {},
   "outputs": [],
   "source": []
  },
  {
   "cell_type": "code",
   "execution_count": null,
   "id": "5735a2f8-7631-4267-b806-7ffbd1d0b2b9",
   "metadata": {},
   "outputs": [],
   "source": []
  },
  {
   "cell_type": "code",
   "execution_count": null,
   "id": "488a0b0a-a0cb-490a-b86b-7d88d302d2d6",
   "metadata": {},
   "outputs": [],
   "source": []
  },
  {
   "cell_type": "code",
   "execution_count": null,
   "id": "dff9eb03-03d2-4157-93ac-4f815e6609f1",
   "metadata": {},
   "outputs": [],
   "source": []
  },
  {
   "cell_type": "code",
   "execution_count": null,
   "id": "23172406-aed1-4b07-b9bd-f787176a93de",
   "metadata": {},
   "outputs": [],
   "source": []
  },
  {
   "cell_type": "code",
   "execution_count": null,
   "id": "9bc85382-231c-4439-b201-afd298b08cdf",
   "metadata": {},
   "outputs": [],
   "source": []
  },
  {
   "cell_type": "code",
   "execution_count": null,
   "id": "083fd475-da2c-424b-a9b2-be85e4d543f5",
   "metadata": {},
   "outputs": [],
   "source": []
  },
  {
   "cell_type": "code",
   "execution_count": null,
   "id": "7c7025ba-e440-4608-88f4-38c806552d9e",
   "metadata": {},
   "outputs": [],
   "source": []
  },
  {
   "cell_type": "code",
   "execution_count": null,
   "id": "410617c2-4e2b-4fd5-a404-089c4d2ea8a9",
   "metadata": {},
   "outputs": [],
   "source": []
  },
  {
   "cell_type": "code",
   "execution_count": null,
   "id": "abaea52f-1d85-47de-b1c3-9ed45104a107",
   "metadata": {},
   "outputs": [],
   "source": []
  },
  {
   "cell_type": "code",
   "execution_count": null,
   "id": "a4b23d29-f80e-4d9f-b0a6-e3b7043016e1",
   "metadata": {},
   "outputs": [],
   "source": []
  },
  {
   "cell_type": "code",
   "execution_count": null,
   "id": "062c107d-73e1-4169-8c6a-6b0d7c6ca787",
   "metadata": {},
   "outputs": [],
   "source": []
  },
  {
   "cell_type": "code",
   "execution_count": null,
   "id": "d97f935a-1811-4e2a-a911-7e6f7ce0f311",
   "metadata": {},
   "outputs": [],
   "source": []
  },
  {
   "cell_type": "code",
   "execution_count": null,
   "id": "6e4f9861-2074-4690-9c5a-6455f052bb6b",
   "metadata": {},
   "outputs": [],
   "source": []
  },
  {
   "cell_type": "code",
   "execution_count": null,
   "id": "ae724e7c-66a7-4d43-af84-19fdfd65169e",
   "metadata": {},
   "outputs": [],
   "source": []
  },
  {
   "cell_type": "code",
   "execution_count": null,
   "id": "37d88763-c733-4486-8b6f-4fc1015b878d",
   "metadata": {},
   "outputs": [],
   "source": []
  },
  {
   "cell_type": "code",
   "execution_count": null,
   "id": "f0df5795-7a3a-4142-b27f-0f33d499bacb",
   "metadata": {},
   "outputs": [],
   "source": []
  }
 ],
 "metadata": {
  "kernelspec": {
   "display_name": "Python 3 (ipykernel)",
   "language": "python",
   "name": "python3"
  },
  "language_info": {
   "codemirror_mode": {
    "name": "ipython",
    "version": 3
   },
   "file_extension": ".py",
   "mimetype": "text/x-python",
   "name": "python",
   "nbconvert_exporter": "python",
   "pygments_lexer": "ipython3",
   "version": "3.11.5"
  }
 },
 "nbformat": 4,
 "nbformat_minor": 5
}
