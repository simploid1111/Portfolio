{
 "cells": [
  {
   "cell_type": "code",
   "execution_count": 44,
   "id": "b4096527-25c1-48ba-9dbb-de1e885d271a",
   "metadata": {},
   "outputs": [],
   "source": [
    "import statsmodels.api as sm\n",
    "import scipy\n",
    "from scipy import power\n",
    "from statsmodels.stats.power import TTestIndPower\n",
    "from statsmodels.stats.power import TTestPower\n",
    "import pandas as pd\n",
    "import numpy as np\n",
    "import random\n",
    "from statsmodels.stats.proportion import proportion_effectsize\n",
    "import matplotlib.pyplot as plt"
   ]
  },
  {
   "cell_type": "markdown",
   "id": "77f98e17-77fb-4465-9299-d6408126c305",
   "metadata": {},
   "source": [
    "## Допустим у нас есть таблица по пользовательским платам и мы решили протестировать новую фичу, которая предположительно поднимет пользовательскую плату в среднем на 0.3 единицы валюты "
   ]
  },
  {
   "cell_type": "code",
   "execution_count": 45,
   "id": "8e6921f1-dfcc-4f0a-814a-d891e014822c",
   "metadata": {},
   "outputs": [],
   "source": [
    "userpay_data = pd.DataFrame(columns = ['user_id', 'payment'])\n",
    "userpay_data['user_id'] = np.arange(1, 5001)\n",
    "arr = []\n",
    "for i in range(5000):\n",
    "    x = random.gauss(13, 2.3)\n",
    "    arr.append(x)\n",
    "userpay_data['payment'] = np.array(arr)"
   ]
  },
  {
   "cell_type": "code",
   "execution_count": 46,
   "id": "dc204476-7966-4e43-8bff-e9a332ac26cb",
   "metadata": {},
   "outputs": [
    {
     "data": {
      "text/html": [
       "<div>\n",
       "<style scoped>\n",
       "    .dataframe tbody tr th:only-of-type {\n",
       "        vertical-align: middle;\n",
       "    }\n",
       "\n",
       "    .dataframe tbody tr th {\n",
       "        vertical-align: top;\n",
       "    }\n",
       "\n",
       "    .dataframe thead th {\n",
       "        text-align: right;\n",
       "    }\n",
       "</style>\n",
       "<table border=\"1\" class=\"dataframe\">\n",
       "  <thead>\n",
       "    <tr style=\"text-align: right;\">\n",
       "      <th></th>\n",
       "      <th>user_id</th>\n",
       "      <th>payment</th>\n",
       "    </tr>\n",
       "  </thead>\n",
       "  <tbody>\n",
       "    <tr>\n",
       "      <th>0</th>\n",
       "      <td>1</td>\n",
       "      <td>16.899453</td>\n",
       "    </tr>\n",
       "    <tr>\n",
       "      <th>1</th>\n",
       "      <td>2</td>\n",
       "      <td>15.625123</td>\n",
       "    </tr>\n",
       "    <tr>\n",
       "      <th>2</th>\n",
       "      <td>3</td>\n",
       "      <td>12.261174</td>\n",
       "    </tr>\n",
       "    <tr>\n",
       "      <th>3</th>\n",
       "      <td>4</td>\n",
       "      <td>12.170779</td>\n",
       "    </tr>\n",
       "    <tr>\n",
       "      <th>4</th>\n",
       "      <td>5</td>\n",
       "      <td>17.215069</td>\n",
       "    </tr>\n",
       "    <tr>\n",
       "      <th>...</th>\n",
       "      <td>...</td>\n",
       "      <td>...</td>\n",
       "    </tr>\n",
       "    <tr>\n",
       "      <th>4995</th>\n",
       "      <td>4996</td>\n",
       "      <td>16.132697</td>\n",
       "    </tr>\n",
       "    <tr>\n",
       "      <th>4996</th>\n",
       "      <td>4997</td>\n",
       "      <td>13.054462</td>\n",
       "    </tr>\n",
       "    <tr>\n",
       "      <th>4997</th>\n",
       "      <td>4998</td>\n",
       "      <td>13.789129</td>\n",
       "    </tr>\n",
       "    <tr>\n",
       "      <th>4998</th>\n",
       "      <td>4999</td>\n",
       "      <td>16.770222</td>\n",
       "    </tr>\n",
       "    <tr>\n",
       "      <th>4999</th>\n",
       "      <td>5000</td>\n",
       "      <td>12.258245</td>\n",
       "    </tr>\n",
       "  </tbody>\n",
       "</table>\n",
       "<p>5000 rows × 2 columns</p>\n",
       "</div>"
      ],
      "text/plain": [
       "      user_id    payment\n",
       "0           1  16.899453\n",
       "1           2  15.625123\n",
       "2           3  12.261174\n",
       "3           4  12.170779\n",
       "4           5  17.215069\n",
       "...       ...        ...\n",
       "4995     4996  16.132697\n",
       "4996     4997  13.054462\n",
       "4997     4998  13.789129\n",
       "4998     4999  16.770222\n",
       "4999     5000  12.258245\n",
       "\n",
       "[5000 rows x 2 columns]"
      ]
     },
     "execution_count": 46,
     "metadata": {},
     "output_type": "execute_result"
    }
   ],
   "source": [
    "userpay_data"
   ]
  },
  {
   "cell_type": "code",
   "execution_count": 47,
   "id": "afd83d2a-ded6-4c6c-ba02-fb8a155e3c90",
   "metadata": {},
   "outputs": [
    {
     "data": {
      "text/plain": [
       "<Axes: >"
      ]
     },
     "execution_count": 47,
     "metadata": {},
     "output_type": "execute_result"
    },
    {
     "data": {
      "image/png": "[encoded data removed]",
      "text/plain": [
       "<Figure size 640x480 with 1 Axes>"
      ]
     },
     "metadata": {},
     "output_type": "display_data"
    }
   ],
   "source": [
    "userpay_data['payment'].hist()"
   ]
  },
  {
   "cell_type": "code",
   "execution_count": 48,
   "id": "db6b8b53-49f7-4b49-b12d-7b768c880770",
   "metadata": {},
   "outputs": [
    {
     "data": {
      "text/plain": [
       "12.939448394726663"
      ]
     },
     "execution_count": 48,
     "metadata": {},
     "output_type": "execute_result"
    }
   ],
   "source": [
    "userpay_data['payment'].mean()"
   ]
  },
  {
   "cell_type": "markdown",
   "id": "bc20274c-c281-4a51-b031-9343d5faf9b0",
   "metadata": {},
   "source": [
    "# Итак, нам понадобится >= 924 наблюдений, возьмем 1000"
   ]
  },
  {
   "cell_type": "code",
   "execution_count": 49,
   "id": "682832cd-cf9f-4657-bc91-c344d91438fc",
   "metadata": {},
   "outputs": [
    {
     "data": {
      "text/plain": [
       "923.638516763391"
      ]
     },
     "execution_count": 49,
     "metadata": {},
     "output_type": "execute_result"
    }
   ],
   "source": [
    "TTestIndPower().solve_power(alpha = 0.05, power = 0.8, 
      effect_size = (13.3 - 13)/2.3, alternative = 'two-sided')"
   ]
  },
  {
   "cell_type": "markdown",
   "id": "2292f4f8-1c67-43ed-8edb-22e770a22685",
   "metadata": {},
   "source": [
    "## Разобьем пользователей на  тестовую и контрольную группы"
   ]
  },
  {
   "cell_type": "code",
   "execution_count": 50,
   "id": "0b1bbbef-0dfb-41c0-8788-f14b70328ca3",
   "metadata": {},
   "outputs": [
    {
     "data": {
      "text/html": [
       "<div>\n",
       "<style scoped>\n",
       "    .dataframe tbody tr th:only-of-type {\n",
       "        vertical-align: middle;\n",
       "    }\n",
       "\n",
       "    .dataframe tbody tr th {\n",
       "        vertical-align: top;\n",
       "    }\n",
       "\n",
       "    .dataframe thead th {\n",
       "        text-align: right;\n",
       "    }\n",
       "</style>\n",
       "<table border=\"1\" class=\"dataframe\">\n",
       "  <thead>\n",
       "    <tr style=\"text-align: right;\">\n",
       "      <th></th>\n",
       "      <th>user_id</th>\n",
       "      <th>payment</th>\n",
       "      <th>group</th>\n",
       "    </tr>\n",
       "  </thead>\n",
       "  <tbody>\n",
       "    <tr>\n",
       "      <th>0</th>\n",
       "      <td>1</td>\n",
       "      <td>16.899453</td>\n",
       "      <td>Controll</td>\n",
       "    </tr>\n",
       "    <tr>\n",
       "      <th>1</th>\n",
       "      <td>2</td>\n",
       "      <td>15.625123</td>\n",
       "      <td>Test</td>\n",
       "    </tr>\n",
       "    <tr>\n",
       "      <th>2</th>\n",
       "      <td>3</td>\n",
       "      <td>12.261174</td>\n",
       "      <td>Controll</td>\n",
       "    </tr>\n",
       "    <tr>\n",
       "      <th>3</th>\n",
       "      <td>4</td>\n",
       "      <td>12.170779</td>\n",
       "      <td>Controll</td>\n",
       "    </tr>\n",
       "    <tr>\n",
       "      <th>4</th>\n",
       "      <td>5</td>\n",
       "      <td>17.215069</td>\n",
       "      <td>Controll</td>\n",
       "    </tr>\n",
       "    <tr>\n",
       "      <th>...</th>\n",
       "      <td>...</td>\n",
       "      <td>...</td>\n",
       "      <td>...</td>\n",
       "    </tr>\n",
       "    <tr>\n",
       "      <th>4995</th>\n",
       "      <td>4996</td>\n",
       "      <td>16.132697</td>\n",
       "      <td>Controll</td>\n",
       "    </tr>\n",
       "    <tr>\n",
       "      <th>4996</th>\n",
       "      <td>4997</td>\n",
       "      <td>13.054462</td>\n",
       "      <td>Test</td>\n",
       "    </tr>\n",
       "    <tr>\n",
       "      <th>4997</th>\n",
       "      <td>4998</td>\n",
       "      <td>13.789129</td>\n",
       "      <td>Test</td>\n",
       "    </tr>\n",
       "    <tr>\n",
       "      <th>4998</th>\n",
       "      <td>4999</td>\n",
       "      <td>16.770222</td>\n",
       "      <td>Test</td>\n",
       "    </tr>\n",
       "    <tr>\n",
       "      <th>4999</th>\n",
       "      <td>5000</td>\n",
       "      <td>12.258245</td>\n",
       "      <td>Controll</td>\n",
       "    </tr>\n",
       "  </tbody>\n",
       "</table>\n",
       "<p>5000 rows × 3 columns</p>\n",
       "</div>"
      ],
      "text/plain": [
       "      user_id    payment     group\n",
       "0           1  16.899453  Controll\n",
       "1           2  15.625123      Test\n",
       "2           3  12.261174  Controll\n",
       "3           4  12.170779  Controll\n",
       "4           5  17.215069  Controll\n",
       "...       ...        ...       ...\n",
       "4995     4996  16.132697  Controll\n",
       "4996     4997  13.054462      Test\n",
       "4997     4998  13.789129      Test\n",
       "4998     4999  16.770222      Test\n",
       "4999     5000  12.258245  Controll\n",
       "\n",
       "[5000 rows x 3 columns]"
      ]
     },
     "execution_count": 50,
     "metadata": {},
     "output_type": "execute_result"
    }
   ],
   "source": [
    "userpay_data['group'] = random.choices(['Test', 'Controll'], weights = [50, 50], k = 5000)\n",
    "userpay_data"
   ]
  },
  {
   "cell_type": "code",
   "execution_count": 51,
   "id": "1ae42aad-459c-45eb-b8c4-ad8f8bbe601b",
   "metadata": {},
   "outputs": [],
   "source": [
    "df_test = userpay_data[userpay_data['group'] == 'Test'].sample(1000)\n",
    "df_controll = userpay_data[userpay_data['group'] == 'Controll'].sample(1000)"
   ]
  },
  {
   "cell_type": "markdown",
   "id": "ce705440-9b33-4547-8a6b-9c3252f8a0a5",
   "metadata": {},
   "source": [
    "### Наша контрольная группа "
   ]
  },
  {
   "cell_type": "code",
   "execution_count": 52,
   "id": "5bd7234b-9cf7-4a83-af80-33ab6ac65032",
   "metadata": {},
   "outputs": [],
   "source": [
    "arr1 = []\n",
    "for i in range(1000):\n",
    "    x = random.gauss(13, 2.3)\n",
    "    arr1.append(x)\n",
    "df_controll['payment'] = np.array(arr1)"
   ]
  },
  {
   "cell_type": "markdown",
   "id": "20c461a2-a41c-4e98-a3c1-e6b1109abefa",
   "metadata": {},
   "source": [
    "### Наша тестовая группа"
   ]
  },
  {
   "cell_type": "code",
   "execution_count": 53,
   "id": "f5765659-0d02-4208-87c4-72d31770a732",
   "metadata": {},
   "outputs": [],
   "source": [
    "arr2 = []\n",
    "for i in range(1000):\n",
    "    x = random.gauss(13.31, 2.3)\n",
    "    arr2.append(x)\n",
    "df_test['payment'] = np.array(arr2)"
   ]
  },
  {
   "cell_type": "code",
   "execution_count": 54,
   "id": "95951745-630d-49a5-b194-a7749cb23027",
   "metadata": {},
   "outputs": [
    {
     "data": {
      "text/plain": [
       "<Axes: >"
      ]
     },
     "execution_count": 54,
     "metadata": {},
     "output_type": "execute_result"
    },
    {
     "data": {
      "image/png": "[encoded data removed]",
      "text/plain": [
       "<Figure size 640x480 with 1 Axes>"
      ]
     },
     "metadata": {},
     "output_type": "display_data"
    }
   ],
   "source": [
    "df_test['payment'].hist()"
   ]
  },
  {
   "cell_type": "code",
   "execution_count": null,
   "id": "f771bb71-9b75-4f38-82cc-534207e3df38",
   "metadata": {},
   "outputs": [],
   "source": []
  },
  {
   "cell_type": "code",
   "execution_count": 55,
   "id": "e9e9e26b-e08b-4356-b314-bb4635d44490",
   "metadata": {},
   "outputs": [
    {
     "name": "stdout",
     "output_type": "stream",
     "text": [
      "2.3444577843633296 0.019152225144 1998.0\n"
     ]
    }
   ],
   "source": [
    "t_score, p_value, dgf = sm.stats.ttest_ind(df_test['payment'], df_controll['payment'])\n",
    "print(t_score, '{:.12f}'.format(p_value), dgf)"
   ]
  },
  {
   "cell_type": "code",
   "execution_count": 56,
   "id": "d9889997-af27-403b-828a-6927939c4908",
   "metadata": {},
   "outputs": [
    {
     "name": "stdout",
     "output_type": "stream",
     "text": [
      "Т-тест показал p-value меньше 0.05 а значит мы можем отвергнуть нулевую гепотезу(фича не сработала и средние выборок равны) в пользу альтернативной(фича сработала и средние выборок значимо различаются)на уровне статистической значимости в 0.95\n"
     ]
    }
   ],
   "source": [
    "if p_value > 0.05:\n",
    "    print('T-ТЕСТ ПОКАЗАЛ , ЧТО Р-VALUE > 0.05, А ЗНАЧИТ МЫ ОТКЛОНЯЕМ АЛЬТЕРНАТИВНУЮ ГЕПОТЕЗУ В ПОЛЬЗУ НУЛЕВОЙ')\n",
    "else:\n",
    "    print('Т-тест показал p-value меньше 0.05 а значит мы можем отвергнуть нулевую гепотезу(фича не сработала и средние выборок равны) в пользу альтернативной(фича сработала и средние выборок значимо различаются)на уровне статистической значимости в 0.95')"
   ]
  },
  {
   "cell_type": "markdown",
   "id": "6be26195-8bb1-4aab-9204-b1c5e219d7c1",
   "metadata": {},
   "source": [
    "## В случае если фича сработает в обратном направлении(уменьшит среднюю плату) т-значение станет отрицательным и мы получим сигнал о том, что фичу лучше не вводить"
   ]
  },
  {
   "cell_type": "code",
   "execution_count": 57,
   "id": "fef84ed4-e7d4-4736-987b-6e67f90a1998",
   "metadata": {},
   "outputs": [],
   "source": [
    "arr3 = []\n",
    "for i in range(1000):\n",
    "    x = random.gauss(12.69, 2.3)\n",
    "    arr3.append(x)\n",
    "df_test['payment2'] = np.array(arr3)"
   ]
  },
  {
   "cell_type": "code",
   "execution_count": 58,
   "id": "e3a174cd-de15-4482-b90f-b72195cdacbc",
   "metadata": {},
   "outputs": [
    {
     "name": "stdout",
     "output_type": "stream",
     "text": [
      "-2.3667359725979877 0.018040596980 1998.0\n"
     ]
    }
   ],
   "source": [
    "t_score, p_value, dgf = sm.stats.ttest_ind(df_test['payment2'], df_controll['payment'])\n",
    "print(t_score, '{:.12f}'.format(p_value), dgf)"
   ]
  },
  {
   "cell_type": "code",
   "execution_count": null,
   "id": "6b75e475-9bcf-4dd1-a637-2e4607b1cd40",
   "metadata": {},
   "outputs": [],
   "source": []
  },
  {
   "cell_type": "markdown",
   "id": "a1994de3-0c6e-40a4-9908-d5530320d8ac",
   "metadata": {},
   "source": [
    "# Проведем еще один тест, но на конверсию"
   ]
  },
  {
   "cell_type": "code",
   "execution_count": 59,
   "id": "4a749899-0b03-46eb-b6d3-bfad4d2161ec",
   "metadata": {},
   "outputs": [],
   "source": [
    "user_conversion = pd.DataFrame(columns = ['user_id', 'action'])\n",
    "user_conversion['user_id'] = np.arange(3000)\n",
    "user_conversion['action'] = np.array(random.choices([0,1], weights = [90, 10], k = 3000))"
   ]
  },
  {
   "cell_type": "code",
   "execution_count": 60,
   "id": "2fcd7fa8-d453-4b1b-9fa4-032b53486cb1",
   "metadata": {},
   "outputs": [
    {
     "data": {
      "text/plain": [
       "0.1234928990685823"
      ]
     },
     "execution_count": 60,
     "metadata": {},
     "output_type": "execute_result"
    }
   ],
   "source": [
    "proportion_effectsize(0.14, 0.1)"
   ]
  },
  {
   "cell_type": "markdown",
   "id": "9ea682e3-83b1-4317-812d-772a7330470d",
   "metadata": {},
   "source": [
    "# Возьмем 1040 наблюдений"
   ]
  },
  {
   "cell_type": "code",
   "execution_count": 61,
   "id": "6204324f-f016-4937-9077-10e68cca3301",
   "metadata": {},
   "outputs": [
    {
     "data": {
      "text/plain": [
       "1030.2865281274026"
      ]
     },
     "execution_count": 61,
     "metadata": {},
     "output_type": "execute_result"
    }
   ],
   "source": [
    "TTestIndPower().solve_power(alpha = 0.05, power = 0.8, effect_size = 0.1234928990685823, alternative = 'two-sided')"
   ]
  },
  {
   "cell_type": "markdown",
   "id": "0882ffcc-7ac3-4b57-84b2-3fe95cfbf774",
   "metadata": {},
   "source": [
    "# Определим группы для пользователей"
   ]
  },
  {
   "cell_type": "code",
   "execution_count": 62,
   "id": "70361eca-94cd-43a5-af31-7594379133e9",
   "metadata": {},
   "outputs": [],
   "source": [
    "user_conversion['group'] = random.choices(['Test', 'Controll'], weights = [50,50], k = 3000)"
   ]
  },
  {
   "cell_type": "code",
   "execution_count": 63,
   "id": "a67b5e73-cf1d-41bf-80ab-eb299b739b10",
   "metadata": {},
   "outputs": [],
   "source": [
    "conv_test = user_conversion[user_conversion['group'] == 'Test'].sample(1040)\n",
    "conv_controll = user_conversion[user_conversion['group'] == 'Controll'].sample(1040)"
   ]
  },
  {
   "cell_type": "markdown",
   "id": "6465fda4-16a9-49a7-94bd-00e417bb965e",
   "metadata": {},
   "source": [
    "## Получаем новые данные"
   ]
  },
  {
   "cell_type": "code",
   "execution_count": 64,
   "id": "4e04b535-8387-4d68-9041-63362ae29c67",
   "metadata": {},
   "outputs": [],
   "source": [
    "conv_controll['action'] = np.array(random.choices([0,1], weights = [90, 10], k = 1040))\n",
    "conv_test['action'] = np.array(random.choices([0,1], weights = [86.3, 14.7], k = 1040))"
   ]
  },
  {
   "cell_type": "markdown",
   "id": "1bf42c94-560d-4aef-982c-f96ac9280d7e",
   "metadata": {},
   "source": [
    "## Проводим т-тест "
   ]
  },
  {
   "cell_type": "code",
   "execution_count": 65,
   "id": "124e5075-65ee-47ee-a569-bc94d10cda1c",
   "metadata": {},
   "outputs": [
    {
     "data": {
      "text/plain": [
       "(2.7446747700506355, 0.006109194052163158, 2078.0)"
      ]
     },
     "execution_count": 65,
     "metadata": {},
     "output_type": "execute_result"
    }
   ],
   "source": [
    "t, pvalue, dgfr = sm.stats.ttest_ind(conv_test['action'],conv_controll['action'])\n",
    "t, pvalue, dgfr"
   ]
  },
  {
   "cell_type": "markdown",
   "id": "64040c2b-3ec5-4432-8db2-2dac2f6838cd",
   "metadata": {},
   "source": [
    "## Проведя z-тест для пропорций получим примерно такие же результаты"
   ]
  },
  {
   "cell_type": "code",
   "execution_count": 66,
   "id": "1cd40554-6bfb-49d8-ae7d-48436575c3b2",
   "metadata": {},
   "outputs": [
    {
     "data": {
      "text/plain": [
       "(2.741031330203297, 0.006124666713822569)"
      ]
     },
     "execution_count": 66,
     "metadata": {},
     "output_type": "execute_result"
    }
   ],
   "source": [
    "sm.stats.proportions_ztest([conv_test[conv_test['action'] == 1]['action'].count(), \n",
    "                            conv_controll[conv_controll['action'] == 1]['action'].count()],\n",
    "                            [conv_test['action'].count(), conv_controll['action'].count()])"
   ]
  },
  {
   "cell_type": "code",
   "execution_count": 67,
   "id": "1d52673f-9560-4508-ac7b-6f884e8d3b46",
   "metadata": {},
   "outputs": [
    {
     "name": "stdout",
     "output_type": "stream",
     "text": [
      "Итак мы получили статистически значимые различия и можем отвергнуть нулевую гепотезу в пользу альтернативной со статистической значимостью 0.95, t-значение сдвинулось вправо - то есть среднее в распределении увеличилось по сравнению с первоначальным, а значит количество единиц выросло\n"
     ]
    }
   ],
   "source": [
    "if pvalue < 0.05:\n",
    "    print('Итак мы получили статистически значимые различия и можем отвергнуть нулевую гепотезу в пользу альтернативной со статистической значимостью 0.95, t-значение сдвинулось вправо - то есть среднее в распределении увеличилось по сравнению с первоначальным, а значит количество единиц выросло')\n",
    "else:\n",
    "    print('P-VALUE> 0.05 А ЗНАЧИТ СТАТИСТИЧЕСКИ ЗНАЧИМЫХ РАЗЛИЧИЙ НЕ БЫЛО ОБНАРУЖЕНО И ВОЗМОЖНОСТИ ОТВЕРГНУТЬ НУЛЕВУЮ ГЕПОТЕЗУ НЕТ')"
   ]
  },
  {
   "cell_type": "markdown",
   "id": "dd9ecc0c-82a4-4254-8576-899a58425fef",
   "metadata": {},
   "source": [
    "# Проведем последний тест на равенство медиан с использованием Bootstrap"
   ]
  },
  {
   "cell_type": "markdown",
   "id": "e354ce32-1cdb-4b5e-95b7-712bd4b45634",
   "metadata": {},
   "source": [
    "## Сгенерируем массив, состоящий из случайных 60 чисел от 1 до 10"
   ]
  },
  {
   "cell_type": "code",
   "execution_count": 68,
   "id": "cec77643-822f-4a92-aff6-0ec613eafad3",
   "metadata": {},
   "outputs": [],
   "source": [
    "sample = np.random.randint(1, 10, 60)"
   ]
  },
  {
   "cell_type": "code",
   "execution_count": 69,
   "id": "9dfde38e-7877-4871-9e9f-151baa049433",
   "metadata": {},
   "outputs": [
    {
     "data": {
      "text/plain": [
       "array([3, 7, 3, 6, 1, 8, 7, 3, 1, 1, 4, 9, 2, 7, 6, 6, 6, 1, 1, 9, 9, 3,\n",
       "       8, 3, 2, 2, 5, 8, 8, 3, 5, 1, 7, 6, 4, 9, 6, 2, 1, 4, 1, 3, 1, 6,\n",
       "       7, 6, 3, 6, 1, 8, 6, 9, 1, 6, 1, 1, 1, 7, 9, 8])"
      ]
     },
     "execution_count": 69,
     "metadata": {},
     "output_type": "execute_result"
    }
   ],
   "source": [
    "sample"
   ]
  },
  {
   "cell_type": "markdown",
   "id": "368ad0a5-d488-41c1-8e69-caf9fa1e80a0",
   "metadata": {},
   "source": [
    "## Напишем функцию для бутстрапирования и применим к раннее созданному массиву"
   ]
  },
  {
   "cell_type": "code",
   "execution_count": 70,
   "id": "d8f8c2df-9f64-4306-b201-559e99aadb26",
   "metadata": {},
   "outputs": [],
   "source": [
    "def getbootstrap(arr, N):\n",
    "    n = arr.size\n",
    "    boot = np.random.choice(arr, size = (n, N), replace = True)\n",
    "    return boot"
   ]
  },
  {
   "cell_type": "code",
   "execution_count": 71,
   "id": "b3ec0605-ffb1-4fe0-81c5-eb4979348850",
   "metadata": {},
   "outputs": [],
   "source": [
    "boot_sample = getbootstrap(sample, 15000)"
   ]
  },
  {
   "cell_type": "code",
   "execution_count": 72,
   "id": "d917e3ea-9396-4391-9059-8ac00b8f9af4",
   "metadata": {},
   "outputs": [
    {
     "data": {
      "text/plain": [
       "array([[6, 1, 2, ..., 7, 3, 3],\n",
       "       [3, 6, 1, ..., 9, 1, 7],\n",
       "       [2, 6, 4, ..., 1, 1, 1],\n",
       "       ...,\n",
       "       [4, 7, 3, ..., 1, 1, 4],\n",
       "       [6, 3, 6, ..., 6, 2, 8],\n",
       "       [1, 2, 4, ..., 1, 3, 1]])"
      ]
     },
     "execution_count": 72,
     "metadata": {},
     "output_type": "execute_result"
    }
   ],
   "source": [
    "boot_sample"
   ]
  },
  {
   "cell_type": "markdown",
   "id": "0f3d3420-1bae-4e61-932f-d861a10f86ab",
   "metadata": {},
   "source": [
    "## Найдем медианы в каждом массиве"
   ]
  },
  {
   "cell_type": "code",
   "execution_count": 73,
   "id": "6f46fc99-80c4-41ce-9a37-ca0302beb685",
   "metadata": {},
   "outputs": [],
   "source": [
    "boot_sample_median = np.median(boot_sample, axis = 0)"
   ]
  },
  {
   "cell_type": "code",
   "execution_count": 74,
   "id": "8285a52d-25d9-4946-ae59-0eda1a7e3416",
   "metadata": {},
   "outputs": [
    {
     "data": {
      "text/plain": [
       "(array([7.000e+00, 5.000e+00, 1.744e+03, 8.190e+02, 2.611e+03, 1.233e+03,\n",
       "        2.021e+03, 1.304e+03, 5.240e+03, 1.600e+01]),\n",
       " array([2. , 2.5, 3. , 3.5, 4. , 4.5, 5. , 5.5, 6. , 6.5, 7. ]),\n",
       " <BarContainer object of 10 artists>)"
      ]
     },
     "execution_count": 74,
     "metadata": {},
     "output_type": "execute_result"
    },
    {
     "data": {
      "image/png": "[encoded data removed]",
      "text/plain": [
       "<Figure size 640x480 with 1 Axes>"
      ]
     },
     "metadata": {},
     "output_type": "display_data"
    }
   ],
   "source": [
    "plt.hist(boot_sample_median)"
   ]
  },
  {
   "cell_type": "markdown",
   "id": "89e7e978-aac7-4a76-a87b-47521745eeeb",
   "metadata": {},
   "source": [
    "## Напишем еще одну функцию для вычисления 95%-го доверительного интервала интервала и применим ее к выборке медиан"
   ]
  },
  {
   "cell_type": "code",
   "execution_count": 75,
   "id": "aa8ee330-b32c-410e-b8c9-13edd610cdc7",
   "metadata": {},
   "outputs": [],
   "source": [
    "def confidence_interval(array):\n",
    "    left = np.quantile(array, 0.05/2)\n",
    "    right = np.quantile(array, 1 - 0.05/2)\n",
    "    return left, right"
   ]
  },
  {
   "cell_type": "code",
   "execution_count": 76,
   "id": "20c8c9d3-ec49-49db-9e2e-3faa8b6371b8",
   "metadata": {},
   "outputs": [
    {
     "name": "stdout",
     "output_type": "stream",
     "text": [
      "95% значений медианы лежат в интервале {(3.0, 6.0)}\n"
     ]
    }
   ],
   "source": [
    "print('95% значений медианы лежат в интервале', {confidence_interval(boot_sample_median)})"
   ]
  },
  {
   "cell_type": "markdown",
   "id": "c6a50a91-0a5a-4fef-b65f-4a03cb78ab08",
   "metadata": {},
   "source": [
    "## Создадим еще один сэмпл, применим к нему функцию для бутстрапа и затем найдем распределение медиан и 95%-й доверительный интервал для этого распределения"
   ]
  },
  {
   "cell_type": "code",
   "execution_count": 77,
   "id": "47001bef-9c83-4195-a443-1c8dc1162486",
   "metadata": {},
   "outputs": [],
   "source": [
    "sample2 = np.random.randint(100, 150, 60)"
   ]
  },
  {
   "cell_type": "code",
   "execution_count": 78,
   "id": "d35f27e2-d5e0-4ab5-97b3-9687b35267a8",
   "metadata": {},
   "outputs": [],
   "source": [
    "boot_sample2 = getbootstrap(sample2, 15000)"
   ]
  },
  {
   "cell_type": "code",
   "execution_count": 79,
   "id": "ca32f9e1-9f7f-4883-b248-58aefdac4034",
   "metadata": {},
   "outputs": [
    {
     "data": {
      "text/plain": [
       "array([125., 124., 126., ..., 125., 124., 124.])"
      ]
     },
     "execution_count": 79,
     "metadata": {},
     "output_type": "execute_result"
    }
   ],
   "source": [
    "boot_sample2_median = np.median(boot_sample2, axis = 0)\n",
    "boot_sample2_median"
   ]
  },
  {
   "cell_type": "code",
   "execution_count": 80,
   "id": "29618dd1-1498-4492-82cd-b1f7e79bc15a",
   "metadata": {},
   "outputs": [
    {
     "name": "stdout",
     "output_type": "stream",
     "text": [
      "У этого распределения 95% всех начений медианы лежат между {(120.0, 131.0)}\n"
     ]
    }
   ],
   "source": [
    "print('У этого распределения 95% всех начений медианы лежат между', {confidence_interval(boot_sample2_median)})\n"
   ]
  },
  {
   "cell_type": "markdown",
   "id": "4f2fcd98-fcb3-44e3-a19e-2325878d890f",
   "metadata": {},
   "source": [
    "## Теперь найдем 95%-й доверительный интервал для разностей медиан этих двух распределений"
   ]
  },
  {
   "cell_type": "code",
   "execution_count": 81,
   "id": "9d9ca6d1-05b5-4031-a101-211db2457b8e",
   "metadata": {},
   "outputs": [
    {
     "data": {
      "text/plain": [
       "(115.0, 126.0)"
      ]
     },
     "execution_count": 81,
     "metadata": {},
     "output_type": "execute_result"
    }
   ],
   "source": [
    "confidence_interval(boot_sample2_median - boot_sample_median)"
   ]
  },
  {
   "cell_type": "markdown",
   "id": "4fa3504f-353a-41f3-bddb-c779a0589a17",
   "metadata": {},
   "source": [
    "## Ноль не входит в этот интервал а значит медианы этих распределений с 95% вероятностью не равны"
   ]
  },
  {
   "cell_type": "code",
   "execution_count": 82,
   "id": "374ef6be-c277-4ce0-9bff-764d9b48cc43",
   "metadata": {},
   "outputs": [
    {
     "data": {
      "text/plain": [
       "(array([  13.,   78.,  731., 2751., 5970., 4037.,  712.,  508.,  177.,\n",
       "          23.]),\n",
       " array([108. , 110.4, 112.8, 115.2, 117.6, 120. , 122.4, 124.8, 127.2,\n",
       "        129.6, 132. ]),\n",
       " <BarContainer object of 10 artists>)"
      ]
     },
     "execution_count": 82,
     "metadata": {},
     "output_type": "execute_result"
    },
    {
     "data": {
      "image/png": "[encoded data removed]",
      "text/plain": [
       "<Figure size 640x480 with 1 Axes>"
      ]
     },
     "metadata": {},
     "output_type": "display_data"
    }
   ],
   "source": [
    "plt.hist(boot_sample2_median - boot_sample_median)"
   ]
  },
  {
   "cell_type": "code",
   "execution_count": 83,
   "id": "a7145f0d-5186-403d-b417-8b67d20dbd02",
   "metadata": {},
   "outputs": [
    {
     "data": {
      "text/plain": [
       "((array([7.000e+00, 5.000e+00, 1.744e+03, 8.190e+02, 2.611e+03, 1.233e+03,\n",
       "         2.021e+03, 1.304e+03, 5.240e+03, 1.600e+01]),\n",
       "  array([2. , 2.5, 3. , 3.5, 4. , 4.5, 5. , 5.5, 6. , 6.5, 7. ]),\n",
       "  <BarContainer object of 10 artists>),\n",
       " (array([6.000e+00, 9.200e+01, 5.210e+02, 3.819e+03, 8.561e+03, 1.041e+03,\n",
       "         5.580e+02, 3.450e+02, 5.600e+01, 1.000e+00]),\n",
       "  array([113.5 , 115.95, 118.4 , 120.85, 123.3 , 125.75, 128.2 , 130.65,\n",
       "         133.1 , 135.55, 138.  ]),\n",
       "  <BarContainer object of 10 artists>))"
      ]
     },
     "execution_count": 83,
     "metadata": {},
     "output_type": "execute_result"
    },
    {
     "data": {
      "image/png": "[encoded data removed]",
      "text/plain": [
       "<Figure size 640x480 with 1 Axes>"
      ]
     },
     "metadata": {},
     "output_type": "display_data"
    }
   ],
   "source": [
    "plt.hist(boot_sample_median), plt.hist(boot_sample2_median)"
   ]
  },
  {
   "cell_type": "code",
   "execution_count": null,
   "id": "e92fd627-5c7b-421b-ab9e-90ec06699690",
   "metadata": {},
   "outputs": [],
   "source": []
  },
  {
   "cell_type": "code",
   "execution_count": null,
   "id": "6120ceb3-dbcd-473e-88b0-506938f2431c",
   "metadata": {},
   "outputs": [],
   "source": []
  },
  {
   "cell_type": "code",
   "execution_count": null,
   "id": "16901440-9ec8-4179-a50b-2b17d72f8590",
   "metadata": {},
   "outputs": [],
   "source": []
  },
  {
   "cell_type": "code",
   "execution_count": null,
   "id": "a2627094-5550-4043-a875-1b81bc5ac558",
   "metadata": {},
   "outputs": [],
   "source": []
  },
  {
   "cell_type": "code",
   "execution_count": null,
   "id": "a73868da-fd39-4fb1-9225-b66b21684af5",
   "metadata": {},
   "outputs": [],
   "source": []
  },
  {
   "cell_type": "code",
   "execution_count": null,
   "id": "2b6ac833-4c7d-4b3b-9663-4bd6c9674a54",
   "metadata": {},
   "outputs": [],
   "source": []
  },
  {
   "cell_type": "code",
   "execution_count": null,
   "id": "2dbf031b-9882-4a76-b3ca-df4886aed0a8",
   "metadata": {},
   "outputs": [],
   "source": []
  },
  {
   "cell_type": "code",
   "execution_count": null,
   "id": "60cfc675-7428-4f39-9612-1fc485c2afa7",
   "metadata": {},
   "outputs": [],
   "source": []
  },
  {
   "cell_type": "code",
   "execution_count": null,
   "id": "c0de2d35-14f4-44ee-858f-c58f264c3461",
   "metadata": {},
   "outputs": [],
   "source": []
  },
  {
   "cell_type": "code",
   "execution_count": null,
   "id": "b84ab059-9781-4488-b77c-2e9befeead3b",
   "metadata": {},
   "outputs": [],
   "source": []
  },
  {
   "cell_type": "code",
   "execution_count": null,
   "id": "e236f5b4-6fbf-4a94-bf9d-1bec6c87a423",
   "metadata": {},
   "outputs": [],
   "source": []
  },
  {
   "cell_type": "code",
   "execution_count": null,
   "id": "18fa1736-5a7d-4dd4-892d-f27830c559a2",
   "metadata": {},
   "outputs": [],
   "source": []
  },
  {
   "cell_type": "code",
   "execution_count": null,
   "id": "2ed444e8-3200-4d1d-bf3a-5ac7b9df3437",
   "metadata": {},
   "outputs": [],
   "source": []
  },
  {
   "cell_type": "code",
   "execution_count": null,
   "id": "cfd913cf-91f8-4977-8c09-716b1ad8f339",
   "metadata": {},
   "outputs": [],
   "source": []
  },
  {
   "cell_type": "code",
   "execution_count": null,
   "id": "46fa0a8d-6e25-4ea4-b172-51a53c3bed1c",
   "metadata": {},
   "outputs": [],
   "source": []
  },
  {
   "cell_type": "code",
   "execution_count": null,
   "id": "14331ef9-1738-41ea-8dce-64e49e98c9e8",
   "metadata": {},
   "outputs": [],
   "source": []
  },
  {
   "cell_type": "code",
   "execution_count": null,
   "id": "aeb174e3-a02a-49f6-89cd-5f3529bd5880",
   "metadata": {},
   "outputs": [],
   "source": []
  },
  {
   "cell_type": "code",
   "execution_count": null,
   "id": "8fda9bf7-6a0d-41b9-835a-cb23554c5f01",
   "metadata": {},
   "outputs": [],
   "source": []
  },
  {
   "cell_type": "code",
   "execution_count": null,
   "id": "688cce72-a104-487d-873f-21568a4b456f",
   "metadata": {},
   "outputs": [],
   "source": []
  },
  {
   "cell_type": "code",
   "execution_count": null,
   "id": "57847b49-1852-489b-bfaa-b40b90e9b260",
   "metadata": {},
   "outputs": [],
   "source": []
  },
  {
   "cell_type": "code",
   "execution_count": null,
   "id": "e567e11b-2a3e-40ff-bdd0-510b25dee8a2",
   "metadata": {},
   "outputs": [],
   "source": []
  },
  {
   "cell_type": "code",
   "execution_count": null,
   "id": "a19a0aca-967b-46c8-9495-046b2a982f32",
   "metadata": {},
   "outputs": [],
   "source": []
  },
  {
   "cell_type": "code",
   "execution_count": null,
   "id": "3b6d1f32-5aa1-45c3-b04a-8f90002ad11a",
   "metadata": {},
   "outputs": [],
   "source": []
  },
  {
   "cell_type": "code",
   "execution_count": null,
   "id": "a3912ec1-9c02-4ace-aff9-5c10e224450d",
   "metadata": {},
   "outputs": [],
   "source": []
  },
  {
   "cell_type": "code",
   "execution_count": null,
   "id": "3f9d28ff-6444-4be9-a4be-bdcb9bd34f29",
   "metadata": {},
   "outputs": [],
   "source": []
  },
  {
   "cell_type": "code",
   "execution_count": null,
   "id": "d9f9f3bb-bcc7-4162-80ed-e7c2f8838c34",
   "metadata": {},
   "outputs": [],
   "source": []
  },
  {
   "cell_type": "code",
   "execution_count": null,
   "id": "a06dd993-2ee1-406a-8349-b08b582733fc",
   "metadata": {},
   "outputs": [],
   "source": []
  },
  {
   "cell_type": "code",
   "execution_count": null,
   "id": "db85ef2b-3cc1-4aba-886a-c9498aa46921",
   "metadata": {},
   "outputs": [],
   "source": []
  },
  {
   "cell_type": "code",
   "execution_count": null,
   "id": "10e48275-1154-4cc6-897e-caccd2b3bee5",
   "metadata": {},
   "outputs": [],
   "source": []
  },
  {
   "cell_type": "code",
   "execution_count": null,
   "id": "040c2337-f373-4635-9c02-e6e0cefa7907",
   "metadata": {},
   "outputs": [],
   "source": []
  },
  {
   "cell_type": "code",
   "execution_count": null,
   "id": "c8809303-a8df-4370-91cd-c69b37430290",
   "metadata": {},
   "outputs": [],
   "source": []
  },
  {
   "cell_type": "code",
   "execution_count": null,
   "id": "222aca1d-85a1-46a7-a628-0d24a9c6b956",
   "metadata": {},
   "outputs": [],
   "source": []
  },
  {
   "cell_type": "code",
   "execution_count": null,
   "id": "8dd0183c-7e96-42ab-a13c-3e56f177dd6c",
   "metadata": {},
   "outputs": [],
   "source": []
  },
  {
   "cell_type": "code",
   "execution_count": null,
   "id": "b315efb5-edcb-4b0f-8e77-fd7ba600616a",
   "metadata": {},
   "outputs": [],
   "source": []
  },
  {
   "cell_type": "code",
   "execution_count": null,
   "id": "e0dd01b2-a641-4da3-b1ed-b51a885fa0a5",
   "metadata": {},
   "outputs": [],
   "source": []
  }
 ],
 "metadata": {
  "kernelspec": {
   "display_name": "Python 3 (ipykernel)",
   "language": "python",
   "name": "python3"
  },
  "language_info": {
   "codemirror_mode": {
    "name": "ipython",
    "version": 3
   },
   "file_extension": ".py",
   "mimetype": "text/x-python",
   "name": "python",
   "nbconvert_exporter": "python",
   "pygments_lexer": "ipython3",
   "version": "3.11.5"
  }
 },
 "nbformat": 4,
 "nbformat_minor": 5
}
