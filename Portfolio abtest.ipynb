{
 "cells": [
  {
   "cell_type": "code",
   "execution_count": 1,
   "id": "b4096527-25c1-48ba-9dbb-de1e885d271a",
   "metadata": {},
   "outputs": [],
   "source": [
    "import statsmodels.api as sm\n",
    "import scipy\n",
    "from scipy import power\n",
    "from statsmodels.stats.power import TTestIndPower\n",
    "from statsmodels.stats.power import TTestPower\n",
    "import pandas as pd\n",
    "import numpy as np\n",
    "import random\n",
    "from statsmodels.stats.proportion import proportion_effectsize\n",
    "import matplotlib.pyplot as plt\n",
    "import math"
   ]
  },
  {
   "cell_type": "markdown",
   "id": "77f98e17-77fb-4465-9299-d6408126c305",
   "metadata": {},
   "source": [
    "## Допустим у нас есть таблица по пользовательским платам и мы решили протестировать новую фичу, которая предположительно поднимет пользовательскую плату в среднем на 0.3 единицы валюты "
   ]
  },
  {
   "cell_type": "code",
   "execution_count": 2,
   "id": "8e6921f1-dfcc-4f0a-814a-d891e014822c",
   "metadata": {},
   "outputs": [],
   "source": [
    "userpay_data = pd.DataFrame(columns = ['user_id', 'payment'])\n",
    "userpay_data['user_id'] = np.arange(1, 5001)\n",
    "arr = []\n",
    "for i in range(5000):\n",
    "    x = random.gauss(13, 2.3)\n",
    "    arr.append(x)\n",
    "userpay_data['payment'] = np.array(arr)"
   ]
  },
  {
   "cell_type": "code",
   "execution_count": 3,
   "id": "dc204476-7966-4e43-8bff-e9a332ac26cb",
   "metadata": {},
   "outputs": [
    {
     "data": {
      "text/html": [
       "<div>\n",
       "<style scoped>\n",
       "    .dataframe tbody tr th:only-of-type {\n",
       "        vertical-align: middle;\n",
       "    }\n",
       "\n",
       "    .dataframe tbody tr th {\n",
       "        vertical-align: top;\n",
       "    }\n",
       "\n",
       "    .dataframe thead th {\n",
       "        text-align: right;\n",
       "    }\n",
       "</style>\n",
       "<table border=\"1\" class=\"dataframe\">\n",
       "  <thead>\n",
       "    <tr style=\"text-align: right;\">\n",
       "      <th></th>\n",
       "      <th>user_id</th>\n",
       "      <th>payment</th>\n",
       "    </tr>\n",
       "  </thead>\n",
       "  <tbody>\n",
       "    <tr>\n",
       "      <th>0</th>\n",
       "      <td>1</td>\n",
       "      <td>11.314598</td>\n",
       "    </tr>\n",
       "    <tr>\n",
       "      <th>1</th>\n",
       "      <td>2</td>\n",
       "      <td>10.940915</td>\n",
       "    </tr>\n",
       "    <tr>\n",
       "      <th>2</th>\n",
       "      <td>3</td>\n",
       "      <td>15.823827</td>\n",
       "    </tr>\n",
       "    <tr>\n",
       "      <th>3</th>\n",
       "      <td>4</td>\n",
       "      <td>11.246462</td>\n",
       "    </tr>\n",
       "    <tr>\n",
       "      <th>4</th>\n",
       "      <td>5</td>\n",
       "      <td>14.977500</td>\n",
       "    </tr>\n",
       "    <tr>\n",
       "      <th>...</th>\n",
       "      <td>...</td>\n",
       "      <td>...</td>\n",
       "    </tr>\n",
       "    <tr>\n",
       "      <th>4995</th>\n",
       "      <td>4996</td>\n",
       "      <td>10.668202</td>\n",
       "    </tr>\n",
       "    <tr>\n",
       "      <th>4996</th>\n",
       "      <td>4997</td>\n",
       "      <td>11.564437</td>\n",
       "    </tr>\n",
       "    <tr>\n",
       "      <th>4997</th>\n",
       "      <td>4998</td>\n",
       "      <td>10.059794</td>\n",
       "    </tr>\n",
       "    <tr>\n",
       "      <th>4998</th>\n",
       "      <td>4999</td>\n",
       "      <td>12.489653</td>\n",
       "    </tr>\n",
       "    <tr>\n",
       "      <th>4999</th>\n",
       "      <td>5000</td>\n",
       "      <td>14.457005</td>\n",
       "    </tr>\n",
       "  </tbody>\n",
       "</table>\n",
       "<p>5000 rows × 2 columns</p>\n",
       "</div>"
      ],
      "text/plain": [
       "      user_id    payment\n",
       "0           1  11.314598\n",
       "1           2  10.940915\n",
       "2           3  15.823827\n",
       "3           4  11.246462\n",
       "4           5  14.977500\n",
       "...       ...        ...\n",
       "4995     4996  10.668202\n",
       "4996     4997  11.564437\n",
       "4997     4998  10.059794\n",
       "4998     4999  12.489653\n",
       "4999     5000  14.457005\n",
       "\n",
       "[5000 rows x 2 columns]"
      ]
     },
     "execution_count": 3,
     "metadata": {},
     "output_type": "execute_result"
    }
   ],
   "source": [
    "userpay_data"
   ]
  },
  {
   "cell_type": "code",
   "execution_count": 4,
   "id": "afd83d2a-ded6-4c6c-ba02-fb8a155e3c90",
   "metadata": {},
   "outputs": [
    {
     "data": {
      "text/plain": [
       "<Axes: >"
      ]
     },
     "execution_count": 4,
     "metadata": {},
     "output_type": "execute_result"
    },
    {
     "data": {
      "image/png": "[encoded data removed]",
      "text/plain": [
       "<Figure size 640x480 with 1 Axes>"
      ]
     },
     "metadata": {},
     "output_type": "display_data"
    }
   ],
   "source": [
    "userpay_data['payment'].hist()"
   ]
  },
  {
   "cell_type": "code",
   "execution_count": 5,
   "id": "db6b8b53-49f7-4b49-b12d-7b768c880770",
   "metadata": {},
   "outputs": [
    {
     "data": {
      "text/plain": [
       "13.032290918980772"
      ]
     },
     "execution_count": 5,
     "metadata": {},
     "output_type": "execute_result"
    }
   ],
   "source": [
    "userpay_data['payment'].mean()"
   ]
  },
  {
   "cell_type": "markdown",
   "id": "bc20274c-c281-4a51-b031-9343d5faf9b0",
   "metadata": {},
   "source": [
    "# Итак, нам понадобится >= 924 наблюдений, возьмем 1000"
   ]
  },
  {
   "cell_type": "code",
   "execution_count": 6,
   "id": "682832cd-cf9f-4657-bc91-c344d91438fc",
   "metadata": {},
   "outputs": [
    {
     "data": {
      "text/plain": [
       "923.638516763391"
      ]
     },
     "execution_count": 6,
     "metadata": {},
     "output_type": "execute_result"
    }
   ],
   "source": [
    "TTestIndPower().solve_power(alpha = 0.05, power = 0.8, effect_size = (13.3 - 13)/2.3, alternative = 'two-sided')"
   ]
  },
  {
   "cell_type": "markdown",
   "id": "2292f4f8-1c67-43ed-8edb-22e770a22685",
   "metadata": {},
   "source": [
    "## Разобьем пользователей на  тестовую и контрольную группы"
   ]
  },
  {
   "cell_type": "code",
   "execution_count": 7,
   "id": "0b1bbbef-0dfb-41c0-8788-f14b70328ca3",
   "metadata": {},
   "outputs": [
    {
     "data": {
      "text/html": [
       "<div>\n",
       "<style scoped>\n",
       "    .dataframe tbody tr th:only-of-type {\n",
       "        vertical-align: middle;\n",
       "    }\n",
       "\n",
       "    .dataframe tbody tr th {\n",
       "        vertical-align: top;\n",
       "    }\n",
       "\n",
       "    .dataframe thead th {\n",
       "        text-align: right;\n",
       "    }\n",
       "</style>\n",
       "<table border=\"1\" class=\"dataframe\">\n",
       "  <thead>\n",
       "    <tr style=\"text-align: right;\">\n",
       "      <th></th>\n",
       "      <th>user_id</th>\n",
       "      <th>payment</th>\n",
       "      <th>group</th>\n",
       "    </tr>\n",
       "  </thead>\n",
       "  <tbody>\n",
       "    <tr>\n",
       "      <th>0</th>\n",
       "      <td>1</td>\n",
       "      <td>11.314598</td>\n",
       "      <td>Controll</td>\n",
       "    </tr>\n",
       "    <tr>\n",
       "      <th>1</th>\n",
       "      <td>2</td>\n",
       "      <td>10.940915</td>\n",
       "      <td>Controll</td>\n",
       "    </tr>\n",
       "    <tr>\n",
       "      <th>2</th>\n",
       "      <td>3</td>\n",
       "      <td>15.823827</td>\n",
       "      <td>Controll</td>\n",
       "    </tr>\n",
       "    <tr>\n",
       "      <th>3</th>\n",
       "      <td>4</td>\n",
       "      <td>11.246462</td>\n",
       "      <td>Controll</td>\n",
       "    </tr>\n",
       "    <tr>\n",
       "      <th>4</th>\n",
       "      <td>5</td>\n",
       "      <td>14.977500</td>\n",
       "      <td>Controll</td>\n",
       "    </tr>\n",
       "    <tr>\n",
       "      <th>...</th>\n",
       "      <td>...</td>\n",
       "      <td>...</td>\n",
       "      <td>...</td>\n",
       "    </tr>\n",
       "    <tr>\n",
       "      <th>4995</th>\n",
       "      <td>4996</td>\n",
       "      <td>10.668202</td>\n",
       "      <td>Test</td>\n",
       "    </tr>\n",
       "    <tr>\n",
       "      <th>4996</th>\n",
       "      <td>4997</td>\n",
       "      <td>11.564437</td>\n",
       "      <td>Controll</td>\n",
       "    </tr>\n",
       "    <tr>\n",
       "      <th>4997</th>\n",
       "      <td>4998</td>\n",
       "      <td>10.059794</td>\n",
       "      <td>Controll</td>\n",
       "    </tr>\n",
       "    <tr>\n",
       "      <th>4998</th>\n",
       "      <td>4999</td>\n",
       "      <td>12.489653</td>\n",
       "      <td>Test</td>\n",
       "    </tr>\n",
       "    <tr>\n",
       "      <th>4999</th>\n",
       "      <td>5000</td>\n",
       "      <td>14.457005</td>\n",
       "      <td>Test</td>\n",
       "    </tr>\n",
       "  </tbody>\n",
       "</table>\n",
       "<p>5000 rows × 3 columns</p>\n",
       "</div>"
      ],
      "text/plain": [
       "      user_id    payment     group\n",
       "0           1  11.314598  Controll\n",
       "1           2  10.940915  Controll\n",
       "2           3  15.823827  Controll\n",
       "3           4  11.246462  Controll\n",
       "4           5  14.977500  Controll\n",
       "...       ...        ...       ...\n",
       "4995     4996  10.668202      Test\n",
       "4996     4997  11.564437  Controll\n",
       "4997     4998  10.059794  Controll\n",
       "4998     4999  12.489653      Test\n",
       "4999     5000  14.457005      Test\n",
       "\n",
       "[5000 rows x 3 columns]"
      ]
     },
     "execution_count": 7,
     "metadata": {},
     "output_type": "execute_result"
    }
   ],
   "source": [
    "userpay_data['group'] = random.choices(['Test', 'Controll'], weights = [50, 50], k = 5000)\n",
    "userpay_data"
   ]
  },
  {
   "cell_type": "code",
   "execution_count": 8,
   "id": "1ae42aad-459c-45eb-b8c4-ad8f8bbe601b",
   "metadata": {},
   "outputs": [],
   "source": [
    "df_test = userpay_data[userpay_data['group'] == 'Test'].sample(1000)\n",
    "df_controll = userpay_data[userpay_data['group'] == 'Controll'].sample(1000)"
   ]
  },
  {
   "cell_type": "markdown",
   "id": "ce705440-9b33-4547-8a6b-9c3252f8a0a5",
   "metadata": {},
   "source": [
    "### Наша контрольная группа "
   ]
  },
  {
   "cell_type": "code",
   "execution_count": 9,
   "id": "5bd7234b-9cf7-4a83-af80-33ab6ac65032",
   "metadata": {},
   "outputs": [],
   "source": [
    "arr1 = []\n",
    "for i in range(1000):\n",
    "    x = random.gauss(13, 2.3)\n",
    "    arr1.append(x)\n",
    "df_controll['payment'] = np.array(arr1)"
   ]
  },
  {
   "cell_type": "markdown",
   "id": "20c461a2-a41c-4e98-a3c1-e6b1109abefa",
   "metadata": {},
   "source": [
    "### Наша тестовая группа"
   ]
  },
  {
   "cell_type": "code",
   "execution_count": 10,
   "id": "f5765659-0d02-4208-87c4-72d31770a732",
   "metadata": {},
   "outputs": [],
   "source": [
    "arr2 = []\n",
    "for i in range(1000):\n",
    "    x = random.gauss(13.31, 2.3)\n",
    "    arr2.append(x)\n",
    "df_test['payment'] = np.array(arr2)"
   ]
  },
  {
   "cell_type": "code",
   "execution_count": 11,
   "id": "95951745-630d-49a5-b194-a7749cb23027",
   "metadata": {},
   "outputs": [
    {
     "data": {
      "text/plain": [
       "<Axes: >"
      ]
     },
     "execution_count": 11,
     "metadata": {},
     "output_type": "execute_result"
    },
    {
     "data": {
      "image/png": "[encoded data removed]",
      "text/plain": [
       "<Figure size 640x480 with 1 Axes>"
      ]
     },
     "metadata": {},
     "output_type": "display_data"
    }
   ],
   "source": [
    "df_test['payment'].hist()"
   ]
  },
  {
   "cell_type": "code",
   "execution_count": null,
   "id": "f771bb71-9b75-4f38-82cc-534207e3df38",
   "metadata": {},
   "outputs": [],
   "source": []
  },
  {
   "cell_type": "code",
   "execution_count": 12,
   "id": "e9e9e26b-e08b-4356-b314-bb4635d44490",
   "metadata": {},
   "outputs": [
    {
     "name": "stdout",
     "output_type": "stream",
     "text": [
      "4.614939715517205 0.000004181787 1998.0\n"
     ]
    }
   ],
   "source": [
    "t_score, p_value, dgf = sm.stats.ttest_ind(df_test['payment'], df_controll['payment'])\n",
    "print(t_score, '{:.12f}'.format(p_value), dgf)"
   ]
  },
  {
   "cell_type": "code",
   "execution_count": 13,
   "id": "d9889997-af27-403b-828a-6927939c4908",
   "metadata": {},
   "outputs": [
    {
     "name": "stdout",
     "output_type": "stream",
     "text": [
      "Т-тест показал p-value меньше 0.05 а значит мы можем отвергнуть нулевую гепотезу(фича не сработала и средние выборок равны) в пользу альтернативной(фича сработала и средние выборок значимо различаются)на уровне статистической значимости в 0.95\n"
     ]
    }
   ],
   "source": [
    "if p_value > 0.05:\n",
    "    print('T-ТЕСТ ПОКАЗАЛ , ЧТО Р-VALUE > 0.05, А ЗНАЧИТ МЫ ОТКЛОНЯЕМ АЛЬТЕРНАТИВНУЮ ГЕПОТЕЗУ В ПОЛЬЗУ НУЛЕВОЙ')\n",
    "else:\n",
    "    print('Т-тест показал p-value меньше 0.05 а значит мы можем отвергнуть нулевую гепотезу(фича не сработала и средние выборок равны) в пользу альтернативной(фича сработала и средние выборок значимо различаются)на уровне статистической значимости в 0.95')"
   ]
  },
  {
   "cell_type": "markdown",
   "id": "6be26195-8bb1-4aab-9204-b1c5e219d7c1",
   "metadata": {},
   "source": [
    "## В случае если фича сработает в обратном направлении(уменьшит среднюю плату) т-значение станет отрицательным и мы получим сигнал о том, что фичу лучше не вводить"
   ]
  },
  {
   "cell_type": "code",
   "execution_count": 14,
   "id": "fef84ed4-e7d4-4736-987b-6e67f90a1998",
   "metadata": {},
   "outputs": [],
   "source": [
    "arr3 = []\n",
    "for i in range(1000):\n",
    "    x = random.gauss(12.69, 2.3)\n",
    "    arr3.append(x)\n",
    "df_test['payment2'] = np.array(arr3)"
   ]
  },
  {
   "cell_type": "code",
   "execution_count": 15,
   "id": "e3a174cd-de15-4482-b90f-b72195cdacbc",
   "metadata": {},
   "outputs": [
    {
     "name": "stdout",
     "output_type": "stream",
     "text": [
      "-2.2239342480983804 0.026264268964 1998.0\n"
     ]
    }
   ],
   "source": [
    "t_score, p_value, dgf = sm.stats.ttest_ind(df_test['payment2'], df_controll['payment'])\n",
    "print(t_score, '{:.12f}'.format(p_value), dgf)"
   ]
  },
  {
   "cell_type": "code",
   "execution_count": null,
   "id": "6b75e475-9bcf-4dd1-a637-2e4607b1cd40",
   "metadata": {},
   "outputs": [],
   "source": []
  },
  {
   "cell_type": "markdown",
   "id": "b76c75a1-cd35-4ea4-992b-dfd384c39348",
   "metadata": {},
   "source": [
    "# Следущий тест будет также на равенство, но с использованием стратификации"
   ]
  },
  {
   "cell_type": "markdown",
   "id": "f3930df1-40f2-471a-83a9-7ed59c8f79db",
   "metadata": {},
   "source": [
    "### Датафрейм будет содержать идентификатор пользователя, информацию о покупке и страту, к которой пользователь принадлежит;\n",
    "### каждая страта будет отличаться по средней плате на пользователя и количеству пользователей"
   ]
  },
  {
   "cell_type": "code",
   "execution_count": 16,
   "id": "329e78e8-e116-4cd6-a7b4-3b79d35a3de0",
   "metadata": {},
   "outputs": [],
   "source": [
    "a, b, c = pd.DataFrame(columns = ['uid', 'payment', 'strat']), pd.DataFrame(columns = ['uid', 'payment', 'strat']), pd.DataFrame(columns = ['uid', 'payment', 'strat'])\n",
    "a['uid'], a['payment'], a['strat'] = np.arange(1000), np.random.normal(21, 2.2, 1000), 'blue'\n",
    "b['uid'], b['payment'], b['strat'] = np.arange(1000, 3700), np.random.normal(45, 2.2, 2700), 'green'\n",
    "c['uid'], c['payment'], c['strat'] = np.arange(3700, 7200), np.random.normal(34, 2.2, 3500), 'red'\n",
    "\n",
    "user_sales = pd.concat([a,b,c], axis = 0)"
   ]
  },
  {
   "cell_type": "code",
   "execution_count": 17,
   "id": "8d37c24c-490b-457a-950c-06083492a893",
   "metadata": {},
   "outputs": [
    {
     "data": {
      "text/html": [
       "<div>\n",
       "<style scoped>\n",
       "    .dataframe tbody tr th:only-of-type {\n",
       "        vertical-align: middle;\n",
       "    }\n",
       "\n",
       "    .dataframe tbody tr th {\n",
       "        vertical-align: top;\n",
       "    }\n",
       "\n",
       "    .dataframe thead th {\n",
       "        text-align: right;\n",
       "    }\n",
       "</style>\n",
       "<table border=\"1\" class=\"dataframe\">\n",
       "  <thead>\n",
       "    <tr style=\"text-align: right;\">\n",
       "      <th></th>\n",
       "      <th>uid</th>\n",
       "      <th>payment</th>\n",
       "      <th>strat</th>\n",
       "    </tr>\n",
       "  </thead>\n",
       "  <tbody>\n",
       "    <tr>\n",
       "      <th>0</th>\n",
       "      <td>0</td>\n",
       "      <td>23.625454</td>\n",
       "      <td>blue</td>\n",
       "    </tr>\n",
       "    <tr>\n",
       "      <th>1</th>\n",
       "      <td>1</td>\n",
       "      <td>20.335963</td>\n",
       "      <td>blue</td>\n",
       "    </tr>\n",
       "    <tr>\n",
       "      <th>2</th>\n",
       "      <td>2</td>\n",
       "      <td>21.847216</td>\n",
       "      <td>blue</td>\n",
       "    </tr>\n",
       "    <tr>\n",
       "      <th>3</th>\n",
       "      <td>3</td>\n",
       "      <td>21.796455</td>\n",
       "      <td>blue</td>\n",
       "    </tr>\n",
       "    <tr>\n",
       "      <th>4</th>\n",
       "      <td>4</td>\n",
       "      <td>21.644981</td>\n",
       "      <td>blue</td>\n",
       "    </tr>\n",
       "    <tr>\n",
       "      <th>...</th>\n",
       "      <td>...</td>\n",
       "      <td>...</td>\n",
       "      <td>...</td>\n",
       "    </tr>\n",
       "    <tr>\n",
       "      <th>3495</th>\n",
       "      <td>7195</td>\n",
       "      <td>33.417844</td>\n",
       "      <td>red</td>\n",
       "    </tr>\n",
       "    <tr>\n",
       "      <th>3496</th>\n",
       "      <td>7196</td>\n",
       "      <td>33.801935</td>\n",
       "      <td>red</td>\n",
       "    </tr>\n",
       "    <tr>\n",
       "      <th>3497</th>\n",
       "      <td>7197</td>\n",
       "      <td>33.697952</td>\n",
       "      <td>red</td>\n",
       "    </tr>\n",
       "    <tr>\n",
       "      <th>3498</th>\n",
       "      <td>7198</td>\n",
       "      <td>35.243415</td>\n",
       "      <td>red</td>\n",
       "    </tr>\n",
       "    <tr>\n",
       "      <th>3499</th>\n",
       "      <td>7199</td>\n",
       "      <td>36.051710</td>\n",
       "      <td>red</td>\n",
       "    </tr>\n",
       "  </tbody>\n",
       "</table>\n",
       "<p>7200 rows × 3 columns</p>\n",
       "</div>"
      ],
      "text/plain": [
       "       uid    payment strat\n",
       "0        0  23.625454  blue\n",
       "1        1  20.335963  blue\n",
       "2        2  21.847216  blue\n",
       "3        3  21.796455  blue\n",
       "4        4  21.644981  blue\n",
       "...    ...        ...   ...\n",
       "3495  7195  33.417844   red\n",
       "3496  7196  33.801935   red\n",
       "3497  7197  33.697952   red\n",
       "3498  7198  35.243415   red\n",
       "3499  7199  36.051710   red\n",
       "\n",
       "[7200 rows x 3 columns]"
      ]
     },
     "execution_count": 17,
     "metadata": {},
     "output_type": "execute_result"
    }
   ],
   "source": [
    "user_sales"
   ]
  },
  {
   "cell_type": "code",
   "execution_count": 18,
   "id": "05656ad3-09d8-43d3-ab05-8adfe0575da5",
   "metadata": {},
   "outputs": [
    {
     "data": {
      "text/plain": [
       "8.250055710964306"
      ]
     },
     "execution_count": 18,
     "metadata": {},
     "output_type": "execute_result"
    }
   ],
   "source": [
    "user_sales['payment'].std()"
   ]
  },
  {
   "cell_type": "markdown",
   "id": "b374134d-1c6e-4e0f-93cf-60150d1ed63e",
   "metadata": {},
   "source": [
    "### Вычислим размер групп"
   ]
  },
  {
   "cell_type": "code",
   "execution_count": 19,
   "id": "90470449-e75d-4dba-a011-1f878731f4a6",
   "metadata": {},
   "outputs": [
    {
     "data": {
      "text/plain": [
       "2182"
      ]
     },
     "execution_count": 19,
     "metadata": {},
     "output_type": "execute_result"
    }
   ],
   "source": [
    "group_size = math.ceil(TTestIndPower().solve_power(alpha = 0.05, power = 0.8, effect_size = (0.7/user_sales['payment'].std()), alternative = 'two-sided')\n",
    ")\n",
    "group_size"
   ]
  },
  {
   "cell_type": "markdown",
   "id": "a95d217d-98b5-47ca-93db-c2e094f388a6",
   "metadata": {},
   "source": [
    "### Разобьем пользователей на группы"
   ]
  },
  {
   "cell_type": "code",
   "execution_count": 20,
   "id": "5c969d8d-3a69-4ab4-9231-c8c987fd1611",
   "metadata": {},
   "outputs": [
    {
     "data": {
      "text/html": [
       "<div>\n",
       "<style scoped>\n",
       "    .dataframe tbody tr th:only-of-type {\n",
       "        vertical-align: middle;\n",
       "    }\n",
       "\n",
       "    .dataframe tbody tr th {\n",
       "        vertical-align: top;\n",
       "    }\n",
       "\n",
       "    .dataframe thead th {\n",
       "        text-align: right;\n",
       "    }\n",
       "</style>\n",
       "<table border=\"1\" class=\"dataframe\">\n",
       "  <thead>\n",
       "    <tr style=\"text-align: right;\">\n",
       "      <th></th>\n",
       "      <th>uid</th>\n",
       "      <th>payment</th>\n",
       "      <th>strat</th>\n",
       "      <th>group</th>\n",
       "    </tr>\n",
       "  </thead>\n",
       "  <tbody>\n",
       "    <tr>\n",
       "      <th>0</th>\n",
       "      <td>0</td>\n",
       "      <td>23.625454</td>\n",
       "      <td>blue</td>\n",
       "      <td>test</td>\n",
       "    </tr>\n",
       "    <tr>\n",
       "      <th>1</th>\n",
       "      <td>1</td>\n",
       "      <td>20.335963</td>\n",
       "      <td>blue</td>\n",
       "      <td>control</td>\n",
       "    </tr>\n",
       "    <tr>\n",
       "      <th>2</th>\n",
       "      <td>2</td>\n",
       "      <td>21.847216</td>\n",
       "      <td>blue</td>\n",
       "      <td>control</td>\n",
       "    </tr>\n",
       "    <tr>\n",
       "      <th>3</th>\n",
       "      <td>3</td>\n",
       "      <td>21.796455</td>\n",
       "      <td>blue</td>\n",
       "      <td>test</td>\n",
       "    </tr>\n",
       "    <tr>\n",
       "      <th>4</th>\n",
       "      <td>4</td>\n",
       "      <td>21.644981</td>\n",
       "      <td>blue</td>\n",
       "      <td>control</td>\n",
       "    </tr>\n",
       "    <tr>\n",
       "      <th>...</th>\n",
       "      <td>...</td>\n",
       "      <td>...</td>\n",
       "      <td>...</td>\n",
       "      <td>...</td>\n",
       "    </tr>\n",
       "    <tr>\n",
       "      <th>3495</th>\n",
       "      <td>7195</td>\n",
       "      <td>33.417844</td>\n",
       "      <td>red</td>\n",
       "      <td>test</td>\n",
       "    </tr>\n",
       "    <tr>\n",
       "      <th>3496</th>\n",
       "      <td>7196</td>\n",
       "      <td>33.801935</td>\n",
       "      <td>red</td>\n",
       "      <td>control</td>\n",
       "    </tr>\n",
       "    <tr>\n",
       "      <th>3497</th>\n",
       "      <td>7197</td>\n",
       "      <td>33.697952</td>\n",
       "      <td>red</td>\n",
       "      <td>control</td>\n",
       "    </tr>\n",
       "    <tr>\n",
       "      <th>3498</th>\n",
       "      <td>7198</td>\n",
       "      <td>35.243415</td>\n",
       "      <td>red</td>\n",
       "      <td>control</td>\n",
       "    </tr>\n",
       "    <tr>\n",
       "      <th>3499</th>\n",
       "      <td>7199</td>\n",
       "      <td>36.051710</td>\n",
       "      <td>red</td>\n",
       "      <td>control</td>\n",
       "    </tr>\n",
       "  </tbody>\n",
       "</table>\n",
       "<p>7200 rows × 4 columns</p>\n",
       "</div>"
      ],
      "text/plain": [
       "       uid    payment strat    group\n",
       "0        0  23.625454  blue     test\n",
       "1        1  20.335963  blue  control\n",
       "2        2  21.847216  blue  control\n",
       "3        3  21.796455  blue     test\n",
       "4        4  21.644981  blue  control\n",
       "...    ...        ...   ...      ...\n",
       "3495  7195  33.417844   red     test\n",
       "3496  7196  33.801935   red  control\n",
       "3497  7197  33.697952   red  control\n",
       "3498  7198  35.243415   red  control\n",
       "3499  7199  36.051710   red  control\n",
       "\n",
       "[7200 rows x 4 columns]"
      ]
     },
     "execution_count": 20,
     "metadata": {},
     "output_type": "execute_result"
    }
   ],
   "source": [
    "user_sales['group'] = random.choices(['test', 'control'], weights = [50, 50], k = 7200)\n",
    "user_sales"
   ]
  },
  {
   "cell_type": "markdown",
   "id": "46e5d069-22fe-49be-8232-6cc5cc071ee6",
   "metadata": {},
   "source": [
    "### Отдельно выпишем веса страт и их размеры внутри групп"
   ]
  },
  {
   "cell_type": "code",
   "execution_count": 21,
   "id": "fc2ca481-0654-468d-b2d1-edb44a9e3eeb",
   "metadata": {},
   "outputs": [
    {
     "data": {
      "text/plain": [
       "strat\n",
       "blue     0.138889\n",
       "green    0.375000\n",
       "red      0.486111\n",
       "Name: payment, dtype: float64"
      ]
     },
     "execution_count": 21,
     "metadata": {},
     "output_type": "execute_result"
    }
   ],
   "source": [
    "weights = user_sales.groupby('strat')['payment'].count()/len(user_sales)\n",
    "weights"
   ]
  },
  {
   "cell_type": "code",
   "execution_count": 22,
   "id": "10b9be13-aa75-412b-8989-59e8acc66ec5",
   "metadata": {},
   "outputs": [
    {
     "name": "stderr",
     "output_type": "stream",
     "text": [
      "C:\\Users\\cours\\AppData\\Local\\Temp\\ipykernel_13740\\1264020507.py:1: FutureWarning: Series.__getitem__ treating keys as positions is deprecated. In a future version, integer keys will always be treated as labels (consistent with DataFrame behavior). To access a value by position, use `ser.iloc[pos]`\n",
      "  strat_sizes = pd.Series({'blue':math.ceil(weights[0]*group_size),\n",
      "C:\\Users\\cours\\AppData\\Local\\Temp\\ipykernel_13740\\1264020507.py:2: FutureWarning: Series.__getitem__ treating keys as positions is deprecated. In a future version, integer keys will always be treated as labels (consistent with DataFrame behavior). To access a value by position, use `ser.iloc[pos]`\n",
      "  'green':math.ceil(weights[1]*group_size),\n",
      "C:\\Users\\cours\\AppData\\Local\\Temp\\ipykernel_13740\\1264020507.py:3: FutureWarning: Series.__getitem__ treating keys as positions is deprecated. In a future version, integer keys will always be treated as labels (consistent with DataFrame behavior). To access a value by position, use `ser.iloc[pos]`\n",
      "  'red':math.ceil(weights[2]*group_size)})\n"
     ]
    },
    {
     "data": {
      "text/plain": [
       "blue      304\n",
       "green     819\n",
       "red      1061\n",
       "dtype: int64"
      ]
     },
     "execution_count": 22,
     "metadata": {},
     "output_type": "execute_result"
    }
   ],
   "source": [
    "strat_sizes = pd.Series({'blue':math.ceil(weights[0]*group_size),\n",
    "                         'green':math.ceil(weights[1]*group_size),\n",
    "                         'red':math.ceil(weights[2]*group_size)})\n",
    "strat_sizes"
   ]
  },
  {
   "cell_type": "markdown",
   "id": "47fc7521-be69-4270-8566-c43874049f54",
   "metadata": {},
   "source": [
    "### Проведем стратифицированное сэмплирование"
   ]
  },
  {
   "cell_type": "code",
   "execution_count": 23,
   "id": "deb1747b-2752-45fc-b99c-db8ee9d367e3",
   "metadata": {},
   "outputs": [],
   "source": [
    "user_sales_control = pd.concat([user_sales.query(\"group == 'control' & strat == 'blue'\").sample(strat_sizes['blue']),\n",
    "                               user_sales.query(\"group == 'control' & strat == 'green'\").sample(strat_sizes['green']),\n",
    "                               user_sales.query(\"group == 'control' & strat == 'red'\").sample(strat_sizes['red'])], axis = 0)\n",
    "\n",
    "user_sales_test = pd.concat([user_sales.query(\"group == 'test' & strat == 'blue'\").sample(strat_sizes['blue']),\n",
    "                               user_sales.query(\"group == 'test' & strat == 'green'\").sample(strat_sizes['green']),\n",
    "                               user_sales.query(\"group == 'test' & strat == 'red'\").sample(strat_sizes['red'])], axis = 0)                           "
   ]
  },
  {
   "cell_type": "markdown",
   "id": "0bcd51ac-be04-4f9e-b5a2-3dc1fc79cb9a",
   "metadata": {},
   "source": [
    "### Благодаря стратификации чувствительность теста должна была вырасти, поэтому имитируем увеличение средней платы не на 0.7,\n",
    "### а на 0.4 и посмотрим задетектирует ли он эффект меньше заложенного изначально"
   ]
  },
  {
   "cell_type": "code",
   "execution_count": 24,
   "id": "8c80c911-943f-44a8-b23f-edebfabd9650",
   "metadata": {},
   "outputs": [],
   "source": [
    "user_sales_test['payment'] = user_sales_test['payment'] + 0.4"
   ]
  },
  {
   "cell_type": "markdown",
   "id": "fb925fb0-ccb6-496d-a2e8-df0160f66e94",
   "metadata": {},
   "source": [
    "### Расчитаем стратифицированное среднее и стратифицированную дисперсию в каждой группе"
   ]
  },
  {
   "cell_type": "code",
   "execution_count": 25,
   "id": "ac1c658b-71f3-4791-a1b0-d3424ffb70b8",
   "metadata": {},
   "outputs": [
    {
     "data": {
      "text/plain": [
       "((36.26476577023365, 36.67615384987815),\n",
       " (4.954825058498466, 4.829955677864438))"
      ]
     },
     "execution_count": 25,
     "metadata": {},
     "output_type": "execute_result"
    }
   ],
   "source": [
    "strat_mean_control = sum(user_sales_control.groupby('strat')['payment'].mean()*weights)\n",
    "strat_mean_test = sum(user_sales_test.groupby('strat')['payment'].mean()*weights)\n",
    "strat_var_control = sum(user_sales_control.groupby('strat')['payment'].var()*weights)\n",
    "strat_var_test = sum(user_sales_test.groupby('strat')['payment'].var()*weights)\n",
    "(strat_mean_control, strat_mean_test) , (strat_var_control, strat_var_test)"
   ]
  },
  {
   "cell_type": "code",
   "execution_count": 26,
   "id": "ab7c9e9f-4ac1-4f69-8063-c15d5e809c1e",
   "metadata": {},
   "outputs": [],
   "source": [
    "tscore = (strat_mean_test - strat_mean_control)/(strat_var_control/len(user_sales_control) + strat_var_test/len(user_sales_test))**0.5"
   ]
  },
  {
   "cell_type": "code",
   "execution_count": 27,
   "id": "c1b80d05-7ee5-49f0-b3f2-f999315803a3",
   "metadata": {},
   "outputs": [],
   "source": [
    "pval = 2*(1 - scipy.stats.norm.cdf(np.abs(tscore)))"
   ]
  },
  {
   "cell_type": "code",
   "execution_count": 28,
   "id": "623c1402-50dd-4ec5-82e6-3b5cde650e67",
   "metadata": {},
   "outputs": [
    {
     "name": "stdout",
     "output_type": "stream",
     "text": [
      "p-значение меньше альфа, значит с вероятностью 95%  распределения метрики в группах статистически различаются 6.146140322239678 0.000000000794\n"
     ]
    }
   ],
   "source": [
    "if pval < 0.05:\n",
    "    print('p-значение меньше альфа, значит с вероятностью 95%  распределения метрики в группах статистически различаются', tscore, '{:.12f}'.format(pval))\n",
    "else:\n",
    "    print('Различие между группами статистически не значимо на уровне 95% ')"
   ]
  },
  {
   "cell_type": "markdown",
   "id": "a1994de3-0c6e-40a4-9908-d5530320d8ac",
   "metadata": {},
   "source": [
    "# Проведем еще один тест, но на конверсию"
   ]
  },
  {
   "cell_type": "code",
   "execution_count": 29,
   "id": "4a749899-0b03-46eb-b6d3-bfad4d2161ec",
   "metadata": {},
   "outputs": [],
   "source": [
    "user_conversion = pd.DataFrame(columns = ['user_id', 'action'])\n",
    "user_conversion['user_id'] = np.arange(3000)\n",
    "user_conversion['action'] = np.array(random.choices([0,1], weights = [90, 10], k = 3000))"
   ]
  },
  {
   "cell_type": "code",
   "execution_count": 30,
   "id": "2fcd7fa8-d453-4b1b-9fa4-032b53486cb1",
   "metadata": {},
   "outputs": [
    {
     "data": {
      "text/plain": [
       "0.1234928990685823"
      ]
     },
     "execution_count": 30,
     "metadata": {},
     "output_type": "execute_result"
    }
   ],
   "source": [
    "proportion_effectsize(0.14, 0.1)"
   ]
  },
  {
   "cell_type": "markdown",
   "id": "9ea682e3-83b1-4317-812d-772a7330470d",
   "metadata": {},
   "source": [
    "# Возьмем 1040 наблюдений"
   ]
  },
  {
   "cell_type": "code",
   "execution_count": 31,
   "id": "6204324f-f016-4937-9077-10e68cca3301",
   "metadata": {},
   "outputs": [
    {
     "data": {
      "text/plain": [
       "1030.2865281274026"
      ]
     },
     "execution_count": 31,
     "metadata": {},
     "output_type": "execute_result"
    }
   ],
   "source": [
    "TTestIndPower().solve_power(alpha = 0.05, power = 0.8, effect_size = 0.1234928990685823, alternative = 'two-sided')"
   ]
  },
  {
   "cell_type": "markdown",
   "id": "0882ffcc-7ac3-4b57-84b2-3fe95cfbf774",
   "metadata": {},
   "source": [
    "# Определим группы для пользователей"
   ]
  },
  {
   "cell_type": "code",
   "execution_count": 32,
   "id": "70361eca-94cd-43a5-af31-7594379133e9",
   "metadata": {},
   "outputs": [],
   "source": [
    "user_conversion['group'] = random.choices(['Test', 'Controll'], weights = [50,50], k = 3000)"
   ]
  },
  {
   "cell_type": "code",
   "execution_count": 33,
   "id": "a67b5e73-cf1d-41bf-80ab-eb299b739b10",
   "metadata": {},
   "outputs": [],
   "source": [
    "conv_test = user_conversion[user_conversion['group'] == 'Test'].sample(1040)\n",
    "conv_controll = user_conversion[user_conversion['group'] == 'Controll'].sample(1040)"
   ]
  },
  {
   "cell_type": "markdown",
   "id": "6465fda4-16a9-49a7-94bd-00e417bb965e",
   "metadata": {},
   "source": [
    "## Получаем новые данные"
   ]
  },
  {
   "cell_type": "code",
   "execution_count": 34,
   "id": "4e04b535-8387-4d68-9041-63362ae29c67",
   "metadata": {},
   "outputs": [],
   "source": [
    "conv_controll['action'] = np.array(random.choices([0,1], weights = [90, 10], k = 1040))\n",
    "conv_test['action'] = np.array(random.choices([0,1], weights = [86.3, 14.7], k = 1040))"
   ]
  },
  {
   "cell_type": "markdown",
   "id": "1bf42c94-560d-4aef-982c-f96ac9280d7e",
   "metadata": {},
   "source": [
    "## Проводим т-тест "
   ]
  },
  {
   "cell_type": "code",
   "execution_count": 35,
   "id": "124e5075-65ee-47ee-a569-bc94d10cda1c",
   "metadata": {},
   "outputs": [
    {
     "data": {
      "text/plain": [
       "(4.3479116211728, 1.4407980802197083e-05, 2078.0)"
      ]
     },
     "execution_count": 35,
     "metadata": {},
     "output_type": "execute_result"
    }
   ],
   "source": [
    "t, pvalue, dgfr = sm.stats.ttest_ind(conv_test['action'],conv_controll['action'])\n",
    "t, pvalue, dgfr"
   ]
  },
  {
   "cell_type": "markdown",
   "id": "64040c2b-3ec5-4432-8db2-2dac2f6838cd",
   "metadata": {},
   "source": [
    "## Проведя z-тест для пропорций получим примерно такие же результаты"
   ]
  },
  {
   "cell_type": "code",
   "execution_count": 36,
   "id": "1cd40554-6bfb-49d8-ae7d-48436575c3b2",
   "metadata": {},
   "outputs": [
    {
     "data": {
      "text/plain": [
       "(4.330350666230168, 1.488720775145906e-05)"
      ]
     },
     "execution_count": 36,
     "metadata": {},
     "output_type": "execute_result"
    }
   ],
   "source": [
    "sm.stats.proportions_ztest([conv_test[conv_test['action'] == 1]['action'].count(), \n",
    "                            conv_controll[conv_controll['action'] == 1]['action'].count()],\n",
    "                            [conv_test['action'].count(), conv_controll['action'].count()])"
   ]
  },
  {
   "cell_type": "code",
   "execution_count": 37,
   "id": "1d52673f-9560-4508-ac7b-6f884e8d3b46",
   "metadata": {},
   "outputs": [
    {
     "name": "stdout",
     "output_type": "stream",
     "text": [
      "Итак мы получили статистически значимые различия и можем отвергнуть нулевую гепотезу в пользу альтернативной со статистической значимостью 0.95, t-значение сдвинулось вправо - то есть среднее в распределении увеличилось по сравнению с первоначальным, а значит количество единиц выросло\n"
     ]
    }
   ],
   "source": [
    "if pvalue < 0.05:\n",
    "    print('Итак мы получили статистически значимые различия и можем отвергнуть нулевую гепотезу в пользу альтернативной со статистической значимостью 0.95, t-значение сдвинулось вправо - то есть среднее в распределении увеличилось по сравнению с первоначальным, а значит количество единиц выросло')\n",
    "else:\n",
    "    print('P-VALUE> 0.05 А ЗНАЧИТ СТАТИСТИЧЕСКИ ЗНАЧИМЫХ РАЗЛИЧИЙ НЕ БЫЛО ОБНАРУЖЕНО И ВОЗМОЖНОСТИ ОТВЕРГНУТЬ НУЛЕВУЮ ГЕПОТЕЗУ НЕТ')"
   ]
  },
  {
   "cell_type": "markdown",
   "id": "dd9ecc0c-82a4-4254-8576-899a58425fef",
   "metadata": {},
   "source": [
    "# Проведем последний тест на равенство медиан с использованием Bootstrap"
   ]
  },
  {
   "cell_type": "markdown",
   "id": "e354ce32-1cdb-4b5e-95b7-712bd4b45634",
   "metadata": {},
   "source": [
    "## Сгенерируем массив, состоящий из случайных 60 чисел от 1 до 10"
   ]
  },
  {
   "cell_type": "code",
   "execution_count": 38,
   "id": "cec77643-822f-4a92-aff6-0ec613eafad3",
   "metadata": {},
   "outputs": [],
   "source": [
    "sample = np.random.randint(1, 10, 60)"
   ]
  },
  {
   "cell_type": "code",
   "execution_count": 39,
   "id": "9dfde38e-7877-4871-9e9f-151baa049433",
   "metadata": {},
   "outputs": [
    {
     "data": {
      "text/plain": [
       "array([8, 6, 7, 8, 8, 7, 5, 3, 4, 4, 5, 9, 8, 3, 4, 9, 2, 2, 3, 8, 9, 8,\n",
       "       2, 3, 4, 4, 5, 3, 4, 7, 3, 5, 8, 7, 3, 3, 1, 2, 4, 9, 6, 9, 3, 7,\n",
       "       1, 1, 5, 4, 3, 5, 3, 2, 4, 5, 1, 3, 1, 1, 5, 5])"
      ]
     },
     "execution_count": 39,
     "metadata": {},
     "output_type": "execute_result"
    }
   ],
   "source": [
    "sample"
   ]
  },
  {
   "cell_type": "markdown",
   "id": "368ad0a5-d488-41c1-8e69-caf9fa1e80a0",
   "metadata": {},
   "source": [
    "## Напишем функцию для бутстрапирования и применим к раннее созданному массиву"
   ]
  },
  {
   "cell_type": "code",
   "execution_count": 40,
   "id": "d8f8c2df-9f64-4306-b201-559e99aadb26",
   "metadata": {},
   "outputs": [],
   "source": [
    "def getbootstrap(arr, N):\n",
    "    n = arr.size\n",
    "    boot = np.random.choice(arr, size = (n, N), replace = True)\n",
    "    return boot"
   ]
  },
  {
   "cell_type": "code",
   "execution_count": 41,
   "id": "b3ec0605-ffb1-4fe0-81c5-eb4979348850",
   "metadata": {},
   "outputs": [],
   "source": [
    "boot_sample = getbootstrap(sample, 15000)"
   ]
  },
  {
   "cell_type": "code",
   "execution_count": 42,
   "id": "d917e3ea-9396-4391-9059-8ac00b8f9af4",
   "metadata": {},
   "outputs": [
    {
     "data": {
      "text/plain": [
       "array([[2, 9, 3, ..., 3, 3, 2],\n",
       "       [9, 4, 7, ..., 5, 9, 7],\n",
       "       [8, 3, 8, ..., 3, 8, 5],\n",
       "       ...,\n",
       "       [7, 1, 3, ..., 7, 1, 2],\n",
       "       [9, 2, 4, ..., 3, 3, 3],\n",
       "       [6, 3, 3, ..., 5, 2, 3]])"
      ]
     },
     "execution_count": 42,
     "metadata": {},
     "output_type": "execute_result"
    }
   ],
   "source": [
    "boot_sample"
   ]
  },
  {
   "cell_type": "markdown",
   "id": "0f3d3420-1bae-4e61-932f-d861a10f86ab",
   "metadata": {},
   "source": [
    "## Найдем распределение медианы в бутстрап-сэмпле"
   ]
  },
  {
   "cell_type": "code",
   "execution_count": 43,
   "id": "6f46fc99-80c4-41ce-9a37-ca0302beb685",
   "metadata": {},
   "outputs": [],
   "source": [
    "boot_sample_median = np.median(boot_sample, axis = 0)"
   ]
  },
  {
   "cell_type": "code",
   "execution_count": 44,
   "id": "8285a52d-25d9-4946-ae59-0eda1a7e3416",
   "metadata": {},
   "outputs": [
    {
     "data": {
      "text/plain": [
       "(array([3.630e+02, 2.990e+02, 9.130e+03, 0.000e+00, 1.364e+03, 3.810e+03,\n",
       "        0.000e+00, 2.200e+01, 1.100e+01, 1.000e+00]),\n",
       " array([3.  , 3.35, 3.7 , 4.05, 4.4 , 4.75, 5.1 , 5.45, 5.8 , 6.15, 6.5 ]),\n",
       " <BarContainer object of 10 artists>)"
      ]
     },
     "execution_count": 44,
     "metadata": {},
     "output_type": "execute_result"
    },
    {
     "data": {
      "image/png": "[encoded data removed]",
      "text/plain": [
       "<Figure size 640x480 with 1 Axes>"
      ]
     },
     "metadata": {},
     "output_type": "display_data"
    }
   ],
   "source": [
    "plt.hist(boot_sample_median)"
   ]
  },
  {
   "cell_type": "markdown",
   "id": "89e7e978-aac7-4a76-a87b-47521745eeeb",
   "metadata": {},
   "source": [
    "## Напишем еще одну функцию для вычисления 95%-го доверительного интервала интервала и применим ее к выборке медиан"
   ]
  },
  {
   "cell_type": "code",
   "execution_count": 45,
   "id": "aa8ee330-b32c-410e-b8c9-13edd610cdc7",
   "metadata": {},
   "outputs": [],
   "source": [
    "def confidence_interval(array):\n",
    "    left = np.quantile(array, 0.05/2)\n",
    "    right = np.quantile(array, 1 - 0.05/2)\n",
    "    return left, right"
   ]
  },
  {
   "cell_type": "code",
   "execution_count": 46,
   "id": "20c8c9d3-ec49-49db-9e2e-3faa8b6371b8",
   "metadata": {},
   "outputs": [
    {
     "name": "stdout",
     "output_type": "stream",
     "text": [
      "95% значений медианы лежат в интервале {(3.5, 5.0)}\n"
     ]
    }
   ],
   "source": [
    "print('95% значений медианы лежат в интервале', {confidence_interval(boot_sample_median)})"
   ]
  },
  {
   "cell_type": "markdown",
   "id": "c6a50a91-0a5a-4fef-b65f-4a03cb78ab08",
   "metadata": {},
   "source": [
    "## Создадим еще один сэмпл, применим к нему функцию для бутстрапа и затем найдем распределение медиан и 95%-й доверительный интервал для этого распределения"
   ]
  },
  {
   "cell_type": "code",
   "execution_count": 47,
   "id": "47001bef-9c83-4195-a443-1c8dc1162486",
   "metadata": {},
   "outputs": [],
   "source": [
    "sample2 = np.random.randint(100, 150, 60)"
   ]
  },
  {
   "cell_type": "code",
   "execution_count": 48,
   "id": "d35f27e2-d5e0-4ab5-97b3-9687b35267a8",
   "metadata": {},
   "outputs": [],
   "source": [
    "boot_sample2 = getbootstrap(sample2, 15000)"
   ]
  },
  {
   "cell_type": "code",
   "execution_count": 49,
   "id": "ca32f9e1-9f7f-4883-b248-58aefdac4034",
   "metadata": {},
   "outputs": [
    {
     "data": {
      "text/plain": [
       "array([122. , 125.5, 123. , ..., 130. , 124. , 118. ])"
      ]
     },
     "execution_count": 49,
     "metadata": {},
     "output_type": "execute_result"
    }
   ],
   "source": [
    "boot_sample2_median = np.median(boot_sample2, axis = 0)\n",
    "boot_sample2_median"
   ]
  },
  {
   "cell_type": "code",
   "execution_count": 50,
   "id": "29618dd1-1498-4492-82cd-b1f7e79bc15a",
   "metadata": {},
   "outputs": [
    {
     "name": "stdout",
     "output_type": "stream",
     "text": [
      "У этого распределения 95% всех начений медианы лежат между {(118.0, 132.5)}\n"
     ]
    }
   ],
   "source": [
    "print('У этого распределения 95% всех начений медианы лежат между', {confidence_interval(boot_sample2_median)})\n"
   ]
  },
  {
   "cell_type": "markdown",
   "id": "4f2fcd98-fcb3-44e3-a19e-2325878d890f",
   "metadata": {},
   "source": [
    "## Теперь найдем 95%-й доверительный интервал для разностей медиан этих двух распределений"
   ]
  },
  {
   "cell_type": "code",
   "execution_count": 51,
   "id": "9d9ca6d1-05b5-4031-a101-211db2457b8e",
   "metadata": {},
   "outputs": [
    {
     "data": {
      "text/plain": [
       "(113.5, 128.5)"
      ]
     },
     "execution_count": 51,
     "metadata": {},
     "output_type": "execute_result"
    }
   ],
   "source": [
    "confidence_interval(boot_sample2_median - boot_sample_median)"
   ]
  },
  {
   "cell_type": "markdown",
   "id": "4fa3504f-353a-41f3-bddb-c779a0589a17",
   "metadata": {},
   "source": [
    "## Нуль не входит в этот интервал а значит медианы этих распределений с 95% вероятностью не равны"
   ]
  },
  {
   "cell_type": "code",
   "execution_count": 52,
   "id": "374ef6be-c277-4ce0-9bff-764d9b48cc43",
   "metadata": {},
   "outputs": [
    {
     "data": {
      "text/plain": [
       "(array([2.970e+02, 7.270e+02, 3.283e+03, 5.496e+03, 2.681e+03, 1.390e+03,\n",
       "        4.100e+02, 4.460e+02, 2.660e+02, 4.000e+00]),\n",
       " array([111. , 113.2, 115.4, 117.6, 119.8, 122. , 124.2, 126.4, 128.6,\n",
       "        130.8, 133. ]),\n",
       " <BarContainer object of 10 artists>)"
      ]
     },
     "execution_count": 52,
     "metadata": {},
     "output_type": "execute_result"
    },
    {
     "data": {
      "image/png": "[encoded data removed]",
      "text/plain": [
       "<Figure size 640x480 with 1 Axes>"
      ]
     },
     "metadata": {},
     "output_type": "display_data"
    }
   ],
   "source": [
    "plt.hist(boot_sample2_median - boot_sample_median)"
   ]
  },
  {
   "cell_type": "code",
   "execution_count": 53,
   "id": "a7145f0d-5186-403d-b417-8b67d20dbd02",
   "metadata": {},
   "outputs": [
    {
     "data": {
      "text/plain": [
       "((array([3.630e+02, 2.990e+02, 9.130e+03, 0.000e+00, 1.364e+03, 3.810e+03,\n",
       "         0.000e+00, 2.200e+01, 1.100e+01, 1.000e+00]),\n",
       "  array([3.  , 3.35, 3.7 , 4.05, 4.4 , 4.75, 5.1 , 5.45, 5.8 , 6.15, 6.5 ]),\n",
       "  <BarContainer object of 10 artists>),\n",
       " (array([6.480e+02, 6.600e+02, 5.457e+03, 3.384e+03, 3.040e+03, 6.740e+02,\n",
       "         4.770e+02, 2.870e+02, 3.690e+02, 4.000e+00]),\n",
       "  array([116. , 118.1, 120.2, 122.3, 124.4, 126.5, 128.6, 130.7, 132.8,\n",
       "         134.9, 137. ]),\n",
       "  <BarContainer object of 10 artists>))"
      ]
     },
     "execution_count": 53,
     "metadata": {},
     "output_type": "execute_result"
    },
    {
     "data": {
      "image/png": "[encoded data removed]",
      "text/plain": [
       "<Figure size 640x480 with 1 Axes>"
      ]
     },
     "metadata": {},
     "output_type": "display_data"
    }
   ],
   "source": [
    "plt.hist(boot_sample_median), plt.hist(boot_sample2_median)"
   ]
  },
  {
   "cell_type": "code",
   "execution_count": null,
   "id": "e92fd627-5c7b-421b-ab9e-90ec06699690",
   "metadata": {},
   "outputs": [],
   "source": []
  },
  {
   "cell_type": "code",
   "execution_count": null,
   "id": "6120ceb3-dbcd-473e-88b0-506938f2431c",
   "metadata": {},
   "outputs": [],
   "source": []
  },
  {
   "cell_type": "code",
   "execution_count": null,
   "id": "a2627094-5550-4043-a875-1b81bc5ac558",
   "metadata": {},
   "outputs": [],
   "source": []
  },
  {
   "cell_type": "code",
   "execution_count": null,
   "id": "a73868da-fd39-4fb1-9225-b66b21684af5",
   "metadata": {},
   "outputs": [],
   "source": []
  },
  {
   "cell_type": "code",
   "execution_count": null,
   "id": "2b6ac833-4c7d-4b3b-9663-4bd6c9674a54",
   "metadata": {},
   "outputs": [],
   "source": []
  },
  {
   "cell_type": "code",
   "execution_count": null,
   "id": "2dbf031b-9882-4a76-b3ca-df4886aed0a8",
   "metadata": {},
   "outputs": [],
   "source": []
  },
  {
   "cell_type": "code",
   "execution_count": null,
   "id": "60cfc675-7428-4f39-9612-1fc485c2afa7",
   "metadata": {},
   "outputs": [],
   "source": []
  },
  {
   "cell_type": "code",
   "execution_count": null,
   "id": "c0de2d35-14f4-44ee-858f-c58f264c3461",
   "metadata": {},
   "outputs": [],
   "source": []
  },
  {
   "cell_type": "code",
   "execution_count": null,
   "id": "b84ab059-9781-4488-b77c-2e9befeead3b",
   "metadata": {},
   "outputs": [],
   "source": []
  },
  {
   "cell_type": "code",
   "execution_count": null,
   "id": "e236f5b4-6fbf-4a94-bf9d-1bec6c87a423",
   "metadata": {},
   "outputs": [],
   "source": []
  },
  {
   "cell_type": "code",
   "execution_count": null,
   "id": "18fa1736-5a7d-4dd4-892d-f27830c559a2",
   "metadata": {},
   "outputs": [],
   "source": []
  },
  {
   "cell_type": "code",
   "execution_count": null,
   "id": "2ed444e8-3200-4d1d-bf3a-5ac7b9df3437",
   "metadata": {},
   "outputs": [],
   "source": []
  },
  {
   "cell_type": "code",
   "execution_count": null,
   "id": "cfd913cf-91f8-4977-8c09-716b1ad8f339",
   "metadata": {},
   "outputs": [],
   "source": []
  },
  {
   "cell_type": "code",
   "execution_count": null,
   "id": "46fa0a8d-6e25-4ea4-b172-51a53c3bed1c",
   "metadata": {},
   "outputs": [],
   "source": []
  },
  {
   "cell_type": "code",
   "execution_count": null,
   "id": "14331ef9-1738-41ea-8dce-64e49e98c9e8",
   "metadata": {},
   "outputs": [],
   "source": []
  },
  {
   "cell_type": "code",
   "execution_count": null,
   "id": "aeb174e3-a02a-49f6-89cd-5f3529bd5880",
   "metadata": {},
   "outputs": [],
   "source": []
  },
  {
   "cell_type": "code",
   "execution_count": null,
   "id": "8fda9bf7-6a0d-41b9-835a-cb23554c5f01",
   "metadata": {},
   "outputs": [],
   "source": []
  },
  {
   "cell_type": "code",
   "execution_count": null,
   "id": "688cce72-a104-487d-873f-21568a4b456f",
   "metadata": {},
   "outputs": [],
   "source": []
  },
  {
   "cell_type": "code",
   "execution_count": null,
   "id": "57847b49-1852-489b-bfaa-b40b90e9b260",
   "metadata": {},
   "outputs": [],
   "source": []
  },
  {
   "cell_type": "code",
   "execution_count": null,
   "id": "e567e11b-2a3e-40ff-bdd0-510b25dee8a2",
   "metadata": {},
   "outputs": [],
   "source": []
  },
  {
   "cell_type": "code",
   "execution_count": null,
   "id": "a19a0aca-967b-46c8-9495-046b2a982f32",
   "metadata": {},
   "outputs": [],
   "source": []
  },
  {
   "cell_type": "code",
   "execution_count": null,
   "id": "3b6d1f32-5aa1-45c3-b04a-8f90002ad11a",
   "metadata": {},
   "outputs": [],
   "source": []
  },
  {
   "cell_type": "code",
   "execution_count": null,
   "id": "a3912ec1-9c02-4ace-aff9-5c10e224450d",
   "metadata": {},
   "outputs": [],
   "source": []
  },
  {
   "cell_type": "code",
   "execution_count": null,
   "id": "3f9d28ff-6444-4be9-a4be-bdcb9bd34f29",
   "metadata": {},
   "outputs": [],
   "source": []
  },
  {
   "cell_type": "code",
   "execution_count": null,
   "id": "d9f9f3bb-bcc7-4162-80ed-e7c2f8838c34",
   "metadata": {},
   "outputs": [],
   "source": []
  },
  {
   "cell_type": "code",
   "execution_count": null,
   "id": "a06dd993-2ee1-406a-8349-b08b582733fc",
   "metadata": {},
   "outputs": [],
   "source": []
  },
  {
   "cell_type": "code",
   "execution_count": null,
   "id": "db85ef2b-3cc1-4aba-886a-c9498aa46921",
   "metadata": {},
   "outputs": [],
   "source": []
  },
  {
   "cell_type": "code",
   "execution_count": null,
   "id": "10e48275-1154-4cc6-897e-caccd2b3bee5",
   "metadata": {},
   "outputs": [],
   "source": []
  },
  {
   "cell_type": "code",
   "execution_count": null,
   "id": "040c2337-f373-4635-9c02-e6e0cefa7907",
   "metadata": {},
   "outputs": [],
   "source": []
  },
  {
   "cell_type": "code",
   "execution_count": null,
   "id": "c8809303-a8df-4370-91cd-c69b37430290",
   "metadata": {},
   "outputs": [],
   "source": []
  },
  {
   "cell_type": "code",
   "execution_count": null,
   "id": "222aca1d-85a1-46a7-a628-0d24a9c6b956",
   "metadata": {},
   "outputs": [],
   "source": []
  },
  {
   "cell_type": "code",
   "execution_count": null,
   "id": "8dd0183c-7e96-42ab-a13c-3e56f177dd6c",
   "metadata": {},
   "outputs": [],
   "source": []
  },
  {
   "cell_type": "code",
   "execution_count": null,
   "id": "b315efb5-edcb-4b0f-8e77-fd7ba600616a",
   "metadata": {},
   "outputs": [],
   "source": []
  },
  {
   "cell_type": "code",
   "execution_count": null,
   "id": "e0dd01b2-a641-4da3-b1ed-b51a885fa0a5",
   "metadata": {},
   "outputs": [],
   "source": []
  }
 ],
 "metadata": {
  "kernelspec": {
   "display_name": "Python 3 (ipykernel)",
   "language": "python",
   "name": "python3"
  },
  "language_info": {
   "codemirror_mode": {
    "name": "ipython",
    "version": 3
   },
   "file_extension": ".py",
   "mimetype": "text/x-python",
   "name": "python",
   "nbconvert_exporter": "python",
   "pygments_lexer": "ipython3",
   "version": "3.11.5"
  }
 },
 "nbformat": 4,
 "nbformat_minor": 5
}
